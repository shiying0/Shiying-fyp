{
 "cells": [
  {
   "cell_type": "markdown",
   "metadata": {},
   "source": [
    "# Load file"
   ]
  },
  {
   "cell_type": "code",
   "execution_count": null,
   "metadata": {},
   "outputs": [],
   "source": [
    "import numpy as np\n",
    "import sklearn as sk\n",
    "import pandas as pd\n",
    "import matplotlib.pyplot as plt\n",
    "from sklearn import metrics\n",
    "from sklearn.model_selection import train_test_split\n",
    "from sklearn.metrics import confusion_matrix\n",
    "from sklearn.metrics import accuracy_score\n",
    "from sklearn.metrics import precision_score\n",
    "from sklearn.metrics import recall_score\n",
    "from sklearn.metrics import f1_score\n",
    "from sklearn.metrics import roc_auc_score\n",
    "from sklearn.metrics import auc, roc_curve\n",
    "from sklearn.metrics import precision_recall_curve\n",
    "from sklearn.metrics import classification_report"
   ]
  },
  {
   "cell_type": "code",
   "execution_count": 2,
   "metadata": {},
   "outputs": [],
   "source": [
    "df_path = \"C:/Users/Enduser/OneDrive - Asia Pacific University/uni/Y3S2/fyp/Model_trial/btc_trial_dataset2.csv\"\n",
    "dataset_df = pd.read_csv(df_path)"
   ]
  },
  {
   "cell_type": "markdown",
   "metadata": {},
   "source": [
    "# Feature Selection: Dropping Irrelevant or Redundant Columns\n",
    " "
   ]
  },
  {
   "cell_type": "code",
   "execution_count": 3,
   "metadata": {},
   "outputs": [],
   "source": [
    "drop_cols = ['tx_hash', 'is_malicious', 'all_malicious', 'mean_in_btc', 'mean_out_btc','in_malicious']\n",
    "dataset_df.drop(columns=drop_cols, inplace=True)"
   ]
  },
  {
   "cell_type": "code",
   "execution_count": 4,
   "metadata": {},
   "outputs": [
    {
     "data": {
      "text/html": [
       "<div>\n",
       "<style scoped>\n",
       "    .dataframe tbody tr th:only-of-type {\n",
       "        vertical-align: middle;\n",
       "    }\n",
       "\n",
       "    .dataframe tbody tr th {\n",
       "        vertical-align: top;\n",
       "    }\n",
       "\n",
       "    .dataframe thead th {\n",
       "        text-align: right;\n",
       "    }\n",
       "</style>\n",
       "<table border=\"1\" class=\"dataframe\">\n",
       "  <thead>\n",
       "    <tr style=\"text-align: right;\">\n",
       "      <th></th>\n",
       "      <th>indegree</th>\n",
       "      <th>outdegree</th>\n",
       "      <th>in_btc</th>\n",
       "      <th>out_btc</th>\n",
       "      <th>total_btc</th>\n",
       "      <th>out_malicious</th>\n",
       "      <th>out_and_tx_malicious</th>\n",
       "    </tr>\n",
       "  </thead>\n",
       "  <tbody>\n",
       "    <tr>\n",
       "      <th>0</th>\n",
       "      <td>4</td>\n",
       "      <td>2</td>\n",
       "      <td>0.478187</td>\n",
       "      <td>0.476987</td>\n",
       "      <td>0.955174</td>\n",
       "      <td>0</td>\n",
       "      <td>0</td>\n",
       "    </tr>\n",
       "    <tr>\n",
       "      <th>1</th>\n",
       "      <td>3</td>\n",
       "      <td>2</td>\n",
       "      <td>2.019000</td>\n",
       "      <td>2.018500</td>\n",
       "      <td>4.037500</td>\n",
       "      <td>0</td>\n",
       "      <td>0</td>\n",
       "    </tr>\n",
       "    <tr>\n",
       "      <th>2</th>\n",
       "      <td>1</td>\n",
       "      <td>1</td>\n",
       "      <td>0.180100</td>\n",
       "      <td>0.180100</td>\n",
       "      <td>0.360200</td>\n",
       "      <td>0</td>\n",
       "      <td>0</td>\n",
       "    </tr>\n",
       "    <tr>\n",
       "      <th>3</th>\n",
       "      <td>1</td>\n",
       "      <td>2</td>\n",
       "      <td>5.879800</td>\n",
       "      <td>5.879300</td>\n",
       "      <td>11.759100</td>\n",
       "      <td>0</td>\n",
       "      <td>0</td>\n",
       "    </tr>\n",
       "    <tr>\n",
       "      <th>4</th>\n",
       "      <td>4</td>\n",
       "      <td>2</td>\n",
       "      <td>0.495906</td>\n",
       "      <td>0.495406</td>\n",
       "      <td>0.991312</td>\n",
       "      <td>0</td>\n",
       "      <td>0</td>\n",
       "    </tr>\n",
       "  </tbody>\n",
       "</table>\n",
       "</div>"
      ],
      "text/plain": [
       "   indegree  outdegree    in_btc   out_btc  total_btc  out_malicious  \\\n",
       "0         4          2  0.478187  0.476987   0.955174              0   \n",
       "1         3          2  2.019000  2.018500   4.037500              0   \n",
       "2         1          1  0.180100  0.180100   0.360200              0   \n",
       "3         1          2  5.879800  5.879300  11.759100              0   \n",
       "4         4          2  0.495906  0.495406   0.991312              0   \n",
       "\n",
       "   out_and_tx_malicious  \n",
       "0                     0  \n",
       "1                     0  \n",
       "2                     0  \n",
       "3                     0  \n",
       "4                     0  "
      ]
     },
     "execution_count": 4,
     "metadata": {},
     "output_type": "execute_result"
    }
   ],
   "source": [
    "dataset_df.head()"
   ]
  },
  {
   "cell_type": "markdown",
   "metadata": {},
   "source": [
    "# Data Splitting"
   ]
  },
  {
   "cell_type": "code",
   "execution_count": 5,
   "metadata": {},
   "outputs": [
    {
     "name": "stdout",
     "output_type": "stream",
     "text": [
      "Data Split Complete:\n",
      "Train Size: 72000\n",
      "Validation Size: 8000\n",
      "Test Size: 20000\n"
     ]
    }
   ],
   "source": [
    "from sklearn.model_selection import train_test_split\n",
    "\n",
    "# Load dataset\n",
    "X = dataset_df.drop('out_and_tx_malicious', axis=1)\n",
    "y = dataset_df['out_and_tx_malicious']\n",
    "\n",
    "# Split dataset into Train (80%) and Test (20%) ensuring stratification\n",
    "X_train, X_test, y_train, y_test = train_test_split(\n",
    "    X, y, test_size=0.2, stratify=y, random_state=42\n",
    ")\n",
    "\n",
    "# Further split Train into Train (90%) and Validation (10%)\n",
    "X_train, X_val, y_train, y_val = train_test_split(\n",
    "    X_train, y_train, test_size=0.10, stratify=y_train, random_state=42\n",
    ")\n",
    "\n",
    "print(\"Data Split Complete:\")\n",
    "print(f\"Train Size: {X_train.shape[0]}\")\n",
    "print(f\"Validation Size: {X_val.shape[0]}\")\n",
    "print(f\"Test Size: {X_test.shape[0]}\")\n"
   ]
  },
  {
   "cell_type": "markdown",
   "metadata": {},
   "source": [
    "# Feature Scaling: Logarithmic Transformation "
   ]
  },
  {
   "cell_type": "code",
   "execution_count": 6,
   "metadata": {},
   "outputs": [
    {
     "name": "stdout",
     "output_type": "stream",
     "text": [
      "Log Transformation Complete\n"
     ]
    }
   ],
   "source": [
    "\n",
    "# Define features for log transformation\n",
    "log_features = ['indegree', 'outdegree', 'in_btc', 'out_btc', 'total_btc']\n",
    "\n",
    "# Apply log transformation\n",
    "for df in [X_train, X_val, X_test]:  \n",
    "    df[log_features] = np.log1p(df[log_features])  # log1p avoids log(0)\n",
    "\n",
    "print(\"Log Transformation Complete\")\n",
    "# View before and after log transformation for a sample feature\n",
    "# feature_to_view = 'in_btc'\n",
    "\n",
    "# print(\"\\nBefore Log Transformation:\")\n",
    "# print(X_train[feature_to_view].head())\n",
    "\n",
    "# print(\"\\nAfter Log Transformation:\")\n",
    "# print(np.log1p(X_train[feature_to_view].head()))"
   ]
  },
  {
   "cell_type": "markdown",
   "metadata": {},
   "source": [
    "# Feature Engineer"
   ]
  },
  {
   "cell_type": "code",
   "execution_count": 7,
   "metadata": {},
   "outputs": [
    {
     "name": "stdout",
     "output_type": "stream",
     "text": [
      "Feature Engineering Complete\n"
     ]
    }
   ],
   "source": [
    "# Feature Engineering Function\n",
    "def add_features(df):\n",
    "    df['out_malicious_to_total_btc'] = df['out_malicious'] / (df['total_btc'] + 1e-6)\n",
    "    df['log_total_btc'] = np.log1p(df['total_btc'])\n",
    "    df['out_malicious_in_btc_interaction'] = df['out_malicious'] * df['in_btc']\n",
    "    df['net_btc_flow'] = df['in_btc'] - df['out_btc']\n",
    "    return df\n",
    "\n",
    "# Apply feature engineering to Train, Validation, and Test sets\n",
    "X_train_fe = add_features(X_train)\n",
    "X_val_fe = add_features(X_val)\n",
    "X_test_fe = add_features(X_test)\n",
    "\n",
    "# Select the final set of features\n",
    "selected_features = [\n",
    "    'in_btc', 'out_btc', 'total_btc', 'out_malicious', 'indegree','outdegree',\n",
    "    'out_malicious_to_total_btc', 'log_total_btc',\n",
    "    'out_malicious_in_btc_interaction', 'net_btc_flow'\n",
    "]\n",
    "\n",
    "X_train_final = X_train_fe[selected_features]\n",
    "X_val_final = X_val_fe[selected_features]\n",
    "X_test_final = X_test_fe[selected_features]\n",
    "\n",
    "print(\"Feature Engineering Complete\")\n"
   ]
  },
  {
   "cell_type": "markdown",
   "metadata": {},
   "source": [
    "#  Data Balancing - Smote"
   ]
  },
  {
   "cell_type": "code",
   "execution_count": 8,
   "metadata": {},
   "outputs": [
    {
     "name": "stdout",
     "output_type": "stream",
     "text": [
      "Class distribution after SMOTE:\n",
      "out_and_tx_malicious\n",
      "0    71923\n",
      "1      719\n",
      "Name: count, dtype: int64\n"
     ]
    }
   ],
   "source": [
    "from imblearn.over_sampling import SMOTE\n",
    "import pandas as pd\n",
    "\n",
    "# Apply SMOTE to handle class imbalance\n",
    "smote = SMOTE(sampling_strategy=0.01, random_state=42)\n",
    "X_train_smote, y_train_smote = smote.fit_resample(X_train_final, y_train)\n",
    "\n",
    "print(\"Class distribution after SMOTE:\")\n",
    "print(pd.Series(y_train_smote).value_counts())"
   ]
  },
  {
   "cell_type": "markdown",
   "metadata": {},
   "source": [
    "# Feature Scaling: Robust Scaling"
   ]
  },
  {
   "cell_type": "code",
   "execution_count": 9,
   "metadata": {},
   "outputs": [
    {
     "name": "stdout",
     "output_type": "stream",
     "text": [
      "Scaling Complete\n"
     ]
    }
   ],
   "source": [
    "from sklearn.preprocessing import RobustScaler\n",
    "\n",
    "# Initialize RobustScaler\n",
    "scaler = RobustScaler()\n",
    "\n",
    "# Fit and transform Train set\n",
    "X_train_scaled = scaler.fit_transform(X_train_smote)\n",
    "\n",
    "# Transform Validation and Test sets using the same scaler\n",
    "X_val_scaled = scaler.transform(X_val_final)\n",
    "X_test_scaled = scaler.transform(X_test_final)\n",
    "\n",
    "# Convert back to DataFrame\n",
    "X_train_scaled_df = pd.DataFrame(X_train_scaled, columns=X_train_final.columns)\n",
    "X_val_scaled_df = pd.DataFrame(X_val_scaled, columns=X_val_final.columns)\n",
    "X_test_scaled_df = pd.DataFrame(X_test_scaled, columns=X_test_final.columns)\n",
    "\n",
    "print(\"Scaling Complete\")\n"
   ]
  },
  {
   "cell_type": "markdown",
   "metadata": {},
   "source": [
    "-------------------------------------------"
   ]
  },
  {
   "cell_type": "markdown",
   "metadata": {},
   "source": [
    "# XGBoost Model 1 (with Optuna tuning) "
   ]
  },
  {
   "cell_type": "code",
   "execution_count": null,
   "metadata": {},
   "outputs": [
    {
     "name": "stderr",
     "output_type": "stream",
     "text": [
      "[I 2025-04-02 20:35:22,604] A new study created in memory with name: no-name-7ceb7a68-afa3-4432-8a97-035caafbc158\n",
      "[I 2025-04-02 20:35:25,114] Trial 0 finished with value: 0.07925407925407925 and parameters: {'max_depth': 5, 'learning_rate': 0.07687921001329358, 'n_estimators': 363, 'subsample': 0.9442535448115422, 'min_child_weight': 4, 'reg_alpha': 0.11859647860585162, 'reg_lambda': 0.014802347629358633, 'colsample_bytree': 0.9831735875303276}. Best is trial 0 with value: 0.07925407925407925.\n",
      "[I 2025-04-02 20:35:26,018] Trial 1 finished with value: 0.029806259314456036 and parameters: {'max_depth': 3, 'learning_rate': 0.05469625164536103, 'n_estimators': 209, 'subsample': 0.7357044192897669, 'min_child_weight': 7, 'reg_alpha': 0.07914720413653281, 'reg_lambda': 0.06299679897018108, 'colsample_bytree': 0.9843869758657544}. Best is trial 0 with value: 0.07925407925407925.\n",
      "[I 2025-04-02 20:35:27,264] Trial 2 finished with value: 0.012300810735253005 and parameters: {'max_depth': 3, 'learning_rate': 0.0024108481718791673, 'n_estimators': 333, 'subsample': 0.7482664890941404, 'min_child_weight': 8, 'reg_alpha': 0.1426673626367321, 'reg_lambda': 0.029463536640493778, 'colsample_bytree': 0.6790180785986475}. Best is trial 0 with value: 0.07925407925407925.\n",
      "[I 2025-04-02 20:35:28,085] Trial 3 finished with value: 0.05397727272727273 and parameters: {'max_depth': 5, 'learning_rate': 0.07381963742980677, 'n_estimators': 180, 'subsample': 0.9504045978763471, 'min_child_weight': 4, 'reg_alpha': 0.04613304790696804, 'reg_lambda': 0.9596351771423028, 'colsample_bytree': 0.6362352424544706}. Best is trial 0 with value: 0.07925407925407925.\n",
      "[I 2025-04-02 20:35:28,787] Trial 4 finished with value: 0.0021975826590750177 and parameters: {'max_depth': 4, 'learning_rate': 0.001538012622466825, 'n_estimators': 151, 'subsample': 0.8646421382367995, 'min_child_weight': 3, 'reg_alpha': 0.0035038021075038768, 'reg_lambda': 0.004259989266404999, 'colsample_bytree': 0.8099957062309492}. Best is trial 0 with value: 0.07925407925407925.\n",
      "[I 2025-04-02 20:35:30,639] Trial 5 finished with value: 0.0021975826590750177 and parameters: {'max_depth': 6, 'learning_rate': 0.001003853312233173, 'n_estimators': 337, 'subsample': 0.8368135516820023, 'min_child_weight': 3, 'reg_alpha': 0.289459389404211, 'reg_lambda': 0.12395024641946707, 'colsample_bytree': 0.9686479261032795}. Best is trial 0 with value: 0.07925407925407925.\n",
      "[I 2025-04-02 20:35:31,248] Trial 6 finished with value: 0.0021975826590750177 and parameters: {'max_depth': 5, 'learning_rate': 0.0012169984191418438, 'n_estimators': 100, 'subsample': 0.8007964988820606, 'min_child_weight': 8, 'reg_alpha': 2.3878433729796606, 'reg_lambda': 0.0024533124088587563, 'colsample_bytree': 0.795579117084497}. Best is trial 0 with value: 0.07925407925407925.\n",
      "[I 2025-04-02 20:35:33,381] Trial 7 finished with value: 0.013662979830839297 and parameters: {'max_depth': 5, 'learning_rate': 0.0013326774941980464, 'n_estimators': 438, 'subsample': 0.8403081249043242, 'min_child_weight': 5, 'reg_alpha': 0.0032197502241045374, 'reg_lambda': 0.001007753460968608, 'colsample_bytree': 0.938932967442119}. Best is trial 0 with value: 0.07925407925407925.\n",
      "[I 2025-04-02 20:35:34,444] Trial 8 finished with value: 0.07063197026022305 and parameters: {'max_depth': 5, 'learning_rate': 0.07864946650979186, 'n_estimators': 217, 'subsample': 0.678372448938146, 'min_child_weight': 6, 'reg_alpha': 0.14108949648411695, 'reg_lambda': 0.08758943310985158, 'colsample_bytree': 0.8999926437244761}. Best is trial 0 with value: 0.07925407925407925.\n",
      "[I 2025-04-02 20:35:35,044] Trial 9 finished with value: 0.02902757619738752 and parameters: {'max_depth': 5, 'learning_rate': 0.02348171742595332, 'n_estimators': 118, 'subsample': 0.685207347813211, 'min_child_weight': 5, 'reg_alpha': 0.026314903303427544, 'reg_lambda': 0.05149262604204125, 'colsample_bytree': 0.7605853202040185}. Best is trial 0 with value: 0.07925407925407925.\n",
      "[I 2025-04-02 20:35:37,286] Trial 10 finished with value: 0.030473135525260625 and parameters: {'max_depth': 6, 'learning_rate': 0.006723900518179215, 'n_estimators': 479, 'subsample': 0.9872046554032222, 'min_child_weight': 1, 'reg_alpha': 8.98689104766201, 'reg_lambda': 7.805390227935091, 'colsample_bytree': 0.8742909912337042}. Best is trial 0 with value: 0.07925407925407925.\n",
      "[I 2025-04-02 20:35:38,524] Trial 11 finished with value: 0.030303030303030304 and parameters: {'max_depth': 4, 'learning_rate': 0.029100062106408836, 'n_estimators': 259, 'subsample': 0.6493041025915786, 'min_child_weight': 10, 'reg_alpha': 0.8391921154579167, 'reg_lambda': 0.011490039008807627, 'colsample_bytree': 0.893896157024949}. Best is trial 0 with value: 0.07925407925407925.\n",
      "[I 2025-04-02 20:35:40,415] Trial 12 finished with value: 0.08808290155440414 and parameters: {'max_depth': 6, 'learning_rate': 0.0907827731071734, 'n_estimators': 387, 'subsample': 0.9162274013811532, 'min_child_weight': 6, 'reg_alpha': 0.01282802988945623, 'reg_lambda': 0.3844145895634638, 'colsample_bytree': 0.8961120446527641}. Best is trial 12 with value: 0.08808290155440414.\n",
      "[I 2025-04-02 20:35:42,114] Trial 13 finished with value: 0.0628099173553719 and parameters: {'max_depth': 6, 'learning_rate': 0.029166330379635303, 'n_estimators': 372, 'subsample': 0.9066453698847248, 'min_child_weight': 1, 'reg_alpha': 0.01278110587216996, 'reg_lambda': 0.623040445298126, 'colsample_bytree': 0.8408325031114432}. Best is trial 12 with value: 0.08808290155440414.\n",
      "[I 2025-04-02 20:35:43,815] Trial 14 finished with value: 0.03571428571428571 and parameters: {'max_depth': 6, 'learning_rate': 0.009379505672664405, 'n_estimators': 407, 'subsample': 0.9235062453023899, 'min_child_weight': 6, 'reg_alpha': 0.012936528731016195, 'reg_lambda': 0.4019127662806046, 'colsample_bytree': 0.9285826928879677}. Best is trial 12 with value: 0.08808290155440414.\n",
      "[I 2025-04-02 20:35:44,805] Trial 15 finished with value: 0.06631762652705062 and parameters: {'max_depth': 4, 'learning_rate': 0.09983176032170592, 'n_estimators': 274, 'subsample': 0.982699993287343, 'min_child_weight': 3, 'reg_alpha': 0.001607013984829553, 'reg_lambda': 5.412123130930519, 'colsample_bytree': 0.9921474637405636}. Best is trial 12 with value: 0.08808290155440414.\n",
      "[I 2025-04-02 20:35:46,999] Trial 16 finished with value: 0.07578947368421053 and parameters: {'max_depth': 6, 'learning_rate': 0.04375205452459655, 'n_estimators': 484, 'subsample': 0.8930921098702745, 'min_child_weight': 9, 'reg_alpha': 0.4549200023631357, 'reg_lambda': 0.012328217585024033, 'colsample_bytree': 0.7405824022559299}. Best is trial 12 with value: 0.08808290155440414.\n",
      "[I 2025-04-02 20:35:48,599] Trial 17 finished with value: 0.03777335984095427 and parameters: {'max_depth': 6, 'learning_rate': 0.01776556441037867, 'n_estimators': 408, 'subsample': 0.9466052893957476, 'min_child_weight': 4, 'reg_alpha': 0.009601987153261845, 'reg_lambda': 2.17300336906443, 'colsample_bytree': 0.9426535416088768}. Best is trial 12 with value: 0.08808290155440414.\n",
      "[I 2025-04-02 20:35:49,847] Trial 18 finished with value: 0.025157232704402517 and parameters: {'max_depth': 5, 'learning_rate': 0.004389925729891463, 'n_estimators': 320, 'subsample': 0.999088239222913, 'min_child_weight': 7, 'reg_alpha': 1.8205963192314023, 'reg_lambda': 0.23547475695521258, 'colsample_bytree': 0.856079885323718}. Best is trial 12 with value: 0.08808290155440414.\n",
      "[I 2025-04-02 20:35:51,237] Trial 19 finished with value: 0.02976190476190476 and parameters: {'max_depth': 4, 'learning_rate': 0.014882033486924932, 'n_estimators': 366, 'subsample': 0.8802819098037535, 'min_child_weight': 2, 'reg_alpha': 0.031181551231387883, 'reg_lambda': 0.018986118259477023, 'colsample_bytree': 0.9051158653143186}. Best is trial 12 with value: 0.08808290155440414.\n",
      "[I 2025-04-02 20:35:53,381] Trial 20 finished with value: 0.08275862068965517 and parameters: {'max_depth': 6, 'learning_rate': 0.048985146074521785, 'n_estimators': 435, 'subsample': 0.7989241774794871, 'min_child_weight': 4, 'reg_alpha': 0.001006586001444677, 'reg_lambda': 2.3663385204877847, 'colsample_bytree': 0.9548380527518341}. Best is trial 12 with value: 0.08808290155440414.\n",
      "[I 2025-04-02 20:35:55,298] Trial 21 finished with value: 0.08 and parameters: {'max_depth': 6, 'learning_rate': 0.044868553193614984, 'n_estimators': 431, 'subsample': 0.7692827850229023, 'min_child_weight': 4, 'reg_alpha': 0.001195438917185788, 'reg_lambda': 2.801542502879785, 'colsample_bytree': 0.9970544240470429}. Best is trial 12 with value: 0.08808290155440414.\n",
      "[I 2025-04-02 20:35:57,388] Trial 22 finished with value: 0.07947019867549669 and parameters: {'max_depth': 6, 'learning_rate': 0.04197619316450963, 'n_estimators': 444, 'subsample': 0.7764054037770565, 'min_child_weight': 5, 'reg_alpha': 0.0010094544067229738, 'reg_lambda': 2.1934932663240123, 'colsample_bytree': 0.9488383602651443}. Best is trial 12 with value: 0.08808290155440414.\n",
      "[I 2025-04-02 20:35:59,717] Trial 23 finished with value: 0.08352668213457076 and parameters: {'max_depth': 6, 'learning_rate': 0.04879430258771542, 'n_estimators': 440, 'subsample': 0.8136705091513027, 'min_child_weight': 6, 'reg_alpha': 0.004233159758244806, 'reg_lambda': 1.9292698553457637, 'colsample_bytree': 0.9166677049134476}. Best is trial 12 with value: 0.08808290155440414.\n",
      "[I 2025-04-02 20:36:02,975] Trial 24 finished with value: 0.08470588235294117 and parameters: {'max_depth': 6, 'learning_rate': 0.053997523820782586, 'n_estimators': 460, 'subsample': 0.8130776964927826, 'min_child_weight': 7, 'reg_alpha': 0.004010018582550454, 'reg_lambda': 1.1229590783594792, 'colsample_bytree': 0.8405100688112327}. Best is trial 12 with value: 0.08808290155440414.\n",
      "[I 2025-04-02 20:36:06,543] Trial 25 finished with value: 0.08488063660477453 and parameters: {'max_depth': 6, 'learning_rate': 0.09872399589900796, 'n_estimators': 499, 'subsample': 0.8189580722033283, 'min_child_weight': 7, 'reg_alpha': 0.004492615408454297, 'reg_lambda': 0.9265999709987663, 'colsample_bytree': 0.8266155423162488}. Best is trial 12 with value: 0.08808290155440414.\n",
      "[I 2025-04-02 20:36:09,399] Trial 26 finished with value: 0.08533333333333333 and parameters: {'max_depth': 6, 'learning_rate': 0.09431970094926603, 'n_estimators': 498, 'subsample': 0.8520438239578351, 'min_child_weight': 7, 'reg_alpha': 0.006400985464253877, 'reg_lambda': 0.21507805242048655, 'colsample_bytree': 0.8220568348026273}. Best is trial 12 with value: 0.08808290155440414.\n",
      "[I 2025-04-02 20:36:11,683] Trial 27 finished with value: 0.08591885441527446 and parameters: {'max_depth': 5, 'learning_rate': 0.08505044110912979, 'n_estimators': 485, 'subsample': 0.8440235695257239, 'min_child_weight': 8, 'reg_alpha': 0.007236679590178717, 'reg_lambda': 0.24169042166064175, 'colsample_bytree': 0.7987204704875317}. Best is trial 12 with value: 0.08808290155440414.\n",
      "[I 2025-04-02 20:36:13,253] Trial 28 finished with value: 0.07378640776699029 and parameters: {'max_depth': 5, 'learning_rate': 0.06667301552269539, 'n_estimators': 403, 'subsample': 0.8615560091946588, 'min_child_weight': 9, 'reg_alpha': 0.008356036677281627, 'reg_lambda': 0.20667526926061233, 'colsample_bytree': 0.7564533768981124}. Best is trial 12 with value: 0.08808290155440414.\n",
      "[I 2025-04-02 20:36:15,288] Trial 29 finished with value: 0.06343906510851419 and parameters: {'max_depth': 5, 'learning_rate': 0.03321766269103828, 'n_estimators': 499, 'subsample': 0.9147643396818024, 'min_child_weight': 8, 'reg_alpha': 0.02198749096261059, 'reg_lambda': 0.3313929993116699, 'colsample_bytree': 0.7270434888213683}. Best is trial 12 with value: 0.08808290155440414.\n",
      "[I 2025-04-02 20:36:16,938] Trial 30 finished with value: 0.031746031746031744 and parameters: {'max_depth': 4, 'learning_rate': 0.019239494140662495, 'n_estimators': 467, 'subsample': 0.6034739673017908, 'min_child_weight': 10, 'reg_alpha': 0.0072419644688509624, 'reg_lambda': 0.13964649693916947, 'colsample_bytree': 0.7845884571103509}. Best is trial 12 with value: 0.08808290155440414.\n",
      "[I 2025-04-02 20:36:19,180] Trial 31 finished with value: 0.08421052631578947 and parameters: {'max_depth': 6, 'learning_rate': 0.09192319992636303, 'n_estimators': 494, 'subsample': 0.8394100029050318, 'min_child_weight': 7, 'reg_alpha': 0.0022934529254129594, 'reg_lambda': 0.593698760878273, 'colsample_bytree': 0.8196175674480906}. Best is trial 12 with value: 0.08808290155440414.\n",
      "[I 2025-04-02 20:36:21,799] Trial 32 finished with value: 0.08831168831168831 and parameters: {'max_depth': 6, 'learning_rate': 0.09928736917231795, 'n_estimators': 500, 'subsample': 0.8734483243864493, 'min_child_weight': 9, 'reg_alpha': 0.06368386682788861, 'reg_lambda': 0.8367272218312608, 'colsample_bytree': 0.8686151903306196}. Best is trial 32 with value: 0.08831168831168831.\n",
      "[I 2025-04-02 20:36:23,224] Trial 33 finished with value: 0.04337899543378995 and parameters: {'max_depth': 3, 'learning_rate': 0.0646245741128228, 'n_estimators': 396, 'subsample': 0.8738968460951686, 'min_child_weight': 9, 'reg_alpha': 0.07842122826049128, 'reg_lambda': 0.04541688498115319, 'colsample_bytree': 0.8707125672209753}. Best is trial 32 with value: 0.08831168831168831.\n",
      "[I 2025-04-02 20:36:25,559] Trial 34 finished with value: 0.08 and parameters: {'max_depth': 5, 'learning_rate': 0.06975116384578822, 'n_estimators': 461, 'subsample': 0.9317142404315981, 'min_child_weight': 8, 'reg_alpha': 0.058220505523723744, 'reg_lambda': 0.19765374314553483, 'colsample_bytree': 0.7865549583344994}. Best is trial 32 with value: 0.08831168831168831.\n",
      "[I 2025-04-02 20:36:27,789] Trial 35 finished with value: 0.08333333333333333 and parameters: {'max_depth': 6, 'learning_rate': 0.0789618331945269, 'n_estimators': 385, 'subsample': 0.9629823600791022, 'min_child_weight': 9, 'reg_alpha': 0.016612021844113447, 'reg_lambda': 0.4029136910983725, 'colsample_bytree': 0.8832972072012824}. Best is trial 32 with value: 0.08831168831168831.\n",
      "[I 2025-04-02 20:36:29,321] Trial 36 finished with value: 0.032230703986429174 and parameters: {'max_depth': 3, 'learning_rate': 0.03709516945717174, 'n_estimators': 469, 'subsample': 0.896291553669417, 'min_child_weight': 8, 'reg_alpha': 0.05323689141439638, 'reg_lambda': 0.08135388707878005, 'colsample_bytree': 0.6811334582258752}. Best is trial 32 with value: 0.08831168831168831.\n",
      "[I 2025-04-02 20:36:31,198] Trial 37 finished with value: 0.024539877300613498 and parameters: {'max_depth': 6, 'learning_rate': 0.003233612593299754, 'n_estimators': 330, 'subsample': 0.8587206522182504, 'min_child_weight': 10, 'reg_alpha': 0.006594385843821007, 'reg_lambda': 0.6464173269572219, 'colsample_bytree': 0.6043712239040557}. Best is trial 32 with value: 0.08831168831168831.\n",
      "[I 2025-04-02 20:36:32,765] Trial 38 finished with value: 0.06846846846846846 and parameters: {'max_depth': 5, 'learning_rate': 0.05461473942483207, 'n_estimators': 348, 'subsample': 0.8387971809034677, 'min_child_weight': 7, 'reg_alpha': 0.23270613713243207, 'reg_lambda': 1.1852439832858275, 'colsample_bytree': 0.8564109556251023}. Best is trial 32 with value: 0.08831168831168831.\n",
      "[I 2025-04-02 20:36:35,013] Trial 39 finished with value: 0.07465618860510806 and parameters: {'max_depth': 5, 'learning_rate': 0.06232219676283703, 'n_estimators': 419, 'subsample': 0.730248251012319, 'min_child_weight': 8, 'reg_alpha': 0.041517491779886596, 'reg_lambda': 0.13475435686534126, 'colsample_bytree': 0.7113043754168143}. Best is trial 32 with value: 0.08831168831168831.\n",
      "[I 2025-04-02 20:36:38,419] Trial 40 finished with value: 0.08333333333333333 and parameters: {'max_depth': 6, 'learning_rate': 0.08007342894045359, 'n_estimators': 452, 'subsample': 0.8815825593728704, 'min_child_weight': 6, 'reg_alpha': 0.1173133277748317, 'reg_lambda': 0.032177844975000466, 'colsample_bytree': 0.8044961750266121}. Best is trial 32 with value: 0.08831168831168831.\n",
      "[I 2025-04-02 20:36:42,231] Trial 41 finished with value: 0.08421052631578947 and parameters: {'max_depth': 6, 'learning_rate': 0.09564968347256243, 'n_estimators': 500, 'subsample': 0.8231545230905942, 'min_child_weight': 7, 'reg_alpha': 0.005023588355600969, 'reg_lambda': 0.311382863784958, 'colsample_bytree': 0.8282174752500923}. Best is trial 32 with value: 0.08831168831168831.\n",
      "[I 2025-04-02 20:36:47,583] Trial 42 finished with value: 0.08831168831168831 and parameters: {'max_depth': 6, 'learning_rate': 0.09548272597261889, 'n_estimators': 482, 'subsample': 0.8534354793212653, 'min_child_weight': 7, 'reg_alpha': 0.0025611006652298033, 'reg_lambda': 0.8396469953142913, 'colsample_bytree': 0.7811664134740113}. Best is trial 32 with value: 0.08831168831168831.\n",
      "[I 2025-04-02 20:36:51,526] Trial 43 finished with value: 0.08977556109725686 and parameters: {'max_depth': 6, 'learning_rate': 0.07819670518271708, 'n_estimators': 481, 'subsample': 0.8622313468419597, 'min_child_weight': 6, 'reg_alpha': 0.002555051195519531, 'reg_lambda': 4.260665659623047, 'colsample_bytree': 0.7778277044380473}. Best is trial 43 with value: 0.08977556109725686.\n",
      "[I 2025-04-02 20:36:56,110] Trial 44 finished with value: 0.08695652173913043 and parameters: {'max_depth': 6, 'learning_rate': 0.06092200316439023, 'n_estimators': 478, 'subsample': 0.7872852803341243, 'min_child_weight': 5, 'reg_alpha': 0.0023623245279749045, 'reg_lambda': 4.128358903317889, 'colsample_bytree': 0.7739799220382622}. Best is trial 43 with value: 0.08977556109725686.\n",
      "[I 2025-04-02 20:37:01,965] Trial 45 finished with value: 0.08571428571428572 and parameters: {'max_depth': 6, 'learning_rate': 0.06401202867845295, 'n_estimators': 467, 'subsample': 0.7753194954045906, 'min_child_weight': 5, 'reg_alpha': 0.0028524997662994047, 'reg_lambda': 3.5985477590049353, 'colsample_bytree': 0.7688490292425331}. Best is trial 43 with value: 0.08977556109725686.\n",
      "[I 2025-04-02 20:37:04,972] Trial 46 finished with value: 0.05688622754491018 and parameters: {'max_depth': 6, 'learning_rate': 0.02495705871699662, 'n_estimators': 421, 'subsample': 0.7480056119774184, 'min_child_weight': 5, 'reg_alpha': 0.0018357280683833218, 'reg_lambda': 9.04500449679427, 'colsample_bytree': 0.7741673788312498}. Best is trial 43 with value: 0.08977556109725686.\n",
      "[I 2025-04-02 20:37:07,303] Trial 47 finished with value: 0.07547169811320754 and parameters: {'max_depth': 6, 'learning_rate': 0.057535355721529464, 'n_estimators': 305, 'subsample': 0.7886282771307659, 'min_child_weight': 6, 'reg_alpha': 0.002025801523918022, 'reg_lambda': 1.4952903120001615, 'colsample_bytree': 0.7135621974914045}. Best is trial 43 with value: 0.08977556109725686.\n",
      "[I 2025-04-02 20:37:09,411] Trial 48 finished with value: 0.0021975826590750177 and parameters: {'max_depth': 6, 'learning_rate': 0.0019070611836010127, 'n_estimators': 220, 'subsample': 0.7161466874138511, 'min_child_weight': 5, 'reg_alpha': 0.014808897528290782, 'reg_lambda': 4.798842446265728, 'colsample_bytree': 0.748921382195977}. Best is trial 43 with value: 0.08977556109725686.\n",
      "[I 2025-04-02 20:37:13,975] Trial 49 finished with value: 0.0683453237410072 and parameters: {'max_depth': 6, 'learning_rate': 0.03656717751041279, 'n_estimators': 476, 'subsample': 0.9036128544399253, 'min_child_weight': 6, 'reg_alpha': 0.0027954797071339005, 'reg_lambda': 4.5548465500291435, 'colsample_bytree': 0.6987369318470715}. Best is trial 43 with value: 0.08977556109725686.\n"
     ]
    },
    {
     "name": "stdout",
     "output_type": "stream",
     "text": [
      "Best Parameters: {'max_depth': 6, 'learning_rate': 0.07819670518271708, 'n_estimators': 481, 'subsample': 0.8622313468419597, 'min_child_weight': 6, 'reg_alpha': 0.002555051195519531, 'reg_lambda': 4.260665659623047, 'colsample_bytree': 0.7778277044380473}\n",
      "Optimal Threshold from Full Training: 0.807\n"
     ]
    },
    {
     "data": {
      "image/png": "[encoded data removed]",
      "text/plain": [
       "<Figure size 1000x600 with 1 Axes>"
      ]
     },
     "metadata": {},
     "output_type": "display_data"
    },
    {
     "name": "stdout",
     "output_type": "stream",
     "text": [
      "\n",
      "Final Classification Report:\n",
      "              precision    recall  f1-score   support\n",
      "\n",
      "           0       1.00      1.00      1.00     19978\n",
      "           1       0.88      0.68      0.77        22\n",
      "\n",
      "    accuracy                           1.00     20000\n",
      "   macro avg       0.94      0.84      0.88     20000\n",
      "weighted avg       1.00      1.00      1.00     20000\n",
      "\n",
      "Final F1-Score (Fraud Class): 0.769\n"
     ]
    }
   ],
   "source": [
    "from sklearn.model_selection import learning_curve, StratifiedKFold\n",
    "from sklearn.metrics import f1_score, classification_report, precision_recall_curve\n",
    "from xgboost import XGBClassifier\n",
    "import optuna  # Bayesian optimization\n",
    "from sklearn.metrics import confusion_matrix\n",
    "\n",
    "# Compute scale_pos_weight for imbalance handling\n",
    "scale_pos_weight = (y_train.value_counts()[0] / y_train.value_counts()[1])\n",
    "\n",
    "# Hyperparameter tuning with Optuna\n",
    "def objective(trial):\n",
    "    params = {\n",
    "        'max_depth': trial.suggest_int('max_depth', 3, 6),\n",
    "        'learning_rate': trial.suggest_loguniform('learning_rate', 0.001, 0.1),\n",
    "        'n_estimators': trial.suggest_int('n_estimators', 100, 500),\n",
    "        'subsample': trial.suggest_float('subsample', 0.6, 1.0),\n",
    "        'min_child_weight': trial.suggest_int('min_child_weight', 1, 10),\n",
    "        'reg_alpha': trial.suggest_loguniform('reg_alpha', 1e-3, 10),    # L1 Regularization\n",
    "        'reg_lambda': trial.suggest_loguniform('reg_lambda', 1e-3, 10),  # L2 Regularization\n",
    "        'colsample_bytree': trial.suggest_float('colsample_bytree', 0.6, 1.0),\n",
    "        'scale_pos_weight': scale_pos_weight,\n",
    "        'eval_metric': 'logloss',\n",
    "        'random_state': 42\n",
    "    }\n",
    "    \n",
    "    model = XGBClassifier(**params)\n",
    "    model.fit(X_train_scaled, y_train_smote)\n",
    "    y_pred_proba = model.predict_proba(X_test_scaled)[:, 1]\n",
    "    return f1_score(y_test, (y_pred_proba > 0.5).astype(int))  # Default threshold\n",
    "\n",
    "study = optuna.create_study(direction='maximize')\n",
    "study.optimize(objective, n_trials=50)\n",
    "\n",
    "best_params = study.best_params\n",
    "print(f\"Best Parameters: {best_params}\")\n",
    "\n",
    "# Train final model with best parameters\n",
    "xgb_model = XGBClassifier(**best_params)\n",
    "xgb_model.fit(X_train_scaled, y_train_smote)\n",
    "\n",
    "# Determine optimal threshold\n",
    "y_pred_proba_test = xgb_model.predict_proba(X_test_scaled)[:, 1]\n",
    "precision, recall, thresholds = precision_recall_curve(y_test, y_pred_proba_test)\n",
    "f1_scores = 2 * (precision * recall) / (precision + recall + 1e-10)\n",
    "optimal_idx = np.argmax(f1_scores)\n",
    "optimal_threshold = thresholds[optimal_idx]\n",
    "print(f\"Optimal Threshold from Full Training: {optimal_threshold:.3f}\")\n",
    "\n",
    "# Custom scorer using the optimal threshold\n",
    "def custom_scorer(estimator, X, y):\n",
    "    y_pred_proba = estimator.predict_proba(X)[:, 1]\n",
    "    y_pred = (y_pred_proba >= optimal_threshold).astype(int)\n",
    "    return f1_score(y, y_pred)\n",
    "\n",
    "# Learning Curve with StratifiedKFold\n",
    "train_sizes = np.linspace(0.1, 1.0, 100)\n",
    "cv = StratifiedKFold(n_splits=5, shuffle=True, random_state=42)\n",
    "\n",
    "train_sizes, train_scores, val_scores = learning_curve(\n",
    "    xgb_model, X_train_scaled, y_train_smote,\n",
    "    cv=cv, scoring=custom_scorer, n_jobs=-1,\n",
    "    train_sizes=train_sizes\n",
    ")\n",
    "\n",
    "# Calculate mean and std\n",
    "train_scores_mean = np.mean(train_scores, axis=1)\n",
    "train_scores_std = np.std(train_scores, axis=1)\n",
    "val_scores_mean = np.mean(val_scores, axis=1)\n",
    "val_scores_std = np.std(val_scores, axis=1)\n",
    "\n",
    "# Plot Learning Curve\n",
    "plt.figure(figsize=(10, 6))\n",
    "plt.plot(train_sizes, train_scores_mean, label='Training F1-Score', color='blue')\n",
    "plt.plot(train_sizes, val_scores_mean, label='Validation F1-Score', color='orange')\n",
    "plt.fill_between(train_sizes, train_scores_mean - train_scores_std, train_scores_mean + train_scores_std, alpha=0.1, color='blue')\n",
    "plt.fill_between(train_sizes, val_scores_mean - val_scores_std, val_scores_mean + val_scores_std, alpha=0.1, color='orange')\n",
    "plt.xlabel('Training Examples')\n",
    "plt.ylabel('F1-Score')\n",
    "plt.title('Improved Learning Curve for XGBoost Model')\n",
    "plt.legend(loc='best')\n",
    "plt.grid(True)\n",
    "plt.show()\n",
    "\n",
    "# Final Model Evaluation\n",
    "y_pred_proba = xgb_model.predict_proba(X_test_scaled)[:, 1]\n",
    "y_pred = (y_pred_proba >= optimal_threshold).astype(int)\n",
    "\n",
    "print(\"\\nFinal Classification Report:\")\n",
    "print(classification_report(y_test, y_pred))\n",
    "print(f\"Final F1-Score (Fraud Class): {f1_score(y_test, y_pred):.3f}\")"
   ]
  },
  {
   "cell_type": "code",
   "execution_count": 57,
   "metadata": {},
   "outputs": [
    {
     "name": "stdout",
     "output_type": "stream",
     "text": [
      "\n",
      "Confusion Matrix:\n",
      "[[19976     2]\n",
      " [    7    15]]\n"
     ]
    }
   ],
   "source": [
    "# Confusion Matrix\n",
    "conf_matrix = confusion_matrix(y_test, y_pred)\n",
    "print(\"\\nConfusion Matrix:\")\n",
    "print(conf_matrix)"
   ]
  },
  {
   "cell_type": "markdown",
   "metadata": {},
   "source": [
    "# Save model 1 (xgb_model)"
   ]
  },
  {
   "cell_type": "code",
   "execution_count": null,
   "metadata": {},
   "outputs": [],
   "source": [
    "import joblib\n",
    "\n",
    "joblib.dump(xgb_model, 'xgb_model.pkl')  \n",
    "joblib.dump(scaler, 'scaler_xgb.pkl')      "
   ]
  },
  {
   "cell_type": "markdown",
   "metadata": {},
   "source": [
    "# XGBoost Model 2 (Grid Search)"
   ]
  },
  {
   "cell_type": "code",
   "execution_count": null,
   "metadata": {},
   "outputs": [
    {
     "name": "stdout",
     "output_type": "stream",
     "text": [
      "\n",
      "Running Grid Search for Hyperparameter Tuning...\n",
      "Fitting 5 folds for each of 3072 candidates, totalling 15360 fits\n",
      "\n",
      "Best Parameters Found: {'colsample_bytree': 1.0, 'learning_rate': 0.01, 'max_depth': 20, 'n_estimators': 50, 'scale_pos_weight': 30, 'subsample': 0.8}\n",
      "\n",
      "Optimized XGBoost Results with Threshold 0.89:\n",
      "              precision    recall  f1-score   support\n",
      "\n",
      "           0       1.00      1.00      1.00     19978\n",
      "           1       0.57      0.73      0.64        22\n",
      "\n",
      "    accuracy                           1.00     20000\n",
      "   macro avg       0.79      0.86      0.82     20000\n",
      "weighted avg       1.00      1.00      1.00     20000\n",
      "\n",
      "\n",
      "Confusion Matrix:\n",
      "[[19966    12]\n",
      " [    6    16]]\n"
     ]
    }
   ],
   "source": [
    "import xgboost as xgb\n",
    "from sklearn.metrics import classification_report, confusion_matrix\n",
    "from sklearn.model_selection import GridSearchCV\n",
    "from sklearn.metrics import f1_score, make_scorer\n",
    "\n",
    "# Parameter grid for XGBoost hyperparameter tuning\n",
    "param_grid = {\n",
    "    'n_estimators': [50, 80, 100, 200],          # Number of trees\n",
    "    'max_depth': [5, 10, 15, 20],                # Max depth of trees\n",
    "    'learning_rate': [0.001, 0.01, 0.05, 0.1],   # Learning rate\n",
    "    'subsample': [0.6, 0.8, 0.9, 1.0],           # Subsample ratio of training data\n",
    "    'colsample_bytree': [0.6, 0.8, 0.9, 1.0],    # Column sample by tree\n",
    "    'scale_pos_weight': [30, 50, 70],            # For handling class imbalance\n",
    "}\n",
    "\n",
    "# Initialize XGBoost model\n",
    "xgb_model = xgb.XGBClassifier(random_state=42, n_jobs=-1)\n",
    "\n",
    "# Custom F1 scorer for optimization (focusing on fraud detection)\n",
    "f1_scorer = make_scorer(f1_score, zero_division=0)\n",
    "\n",
    "# Apply GridSearchCV with 5-fold cross-validation\n",
    "grid_search = GridSearchCV(\n",
    "    xgb_model, param_grid, scoring=f1_scorer, cv=5, n_jobs=-1, verbose=2\n",
    ")\n",
    "\n",
    "# Fit Grid Search to training data\n",
    "print(\"\\nRunning Grid Search for Hyperparameter Tuning...\")\n",
    "grid_search.fit(X_train_scaled, y_train_smote)\n",
    "\n",
    "# Get the best parameters found from GridSearchCV\n",
    "best_params = grid_search.best_params_\n",
    "print(\"\\nBest Parameters Found:\", best_params)\n",
    "\n",
    "# Train final model with the best parameters\n",
    "best_xgb_model = xgb.XGBClassifier(\n",
    "    random_state=42, n_jobs=-1, **best_params\n",
    ")\n",
    "\n",
    "best_xgb_model.fit(X_train_scaled, y_train_smote)\n",
    "\n",
    "# Make predictions on the test set\n",
    "y_pred_adjusted = best_xgb_model.predict(X_test_scaled_df)\n",
    "\n",
    "# Evaluate performance on the test set\n",
    "print(\"\\nOptimized XGBoost Results with Threshold 0.89:\")\n",
    "print(classification_report(y_test, y_pred_adjusted, zero_division=0))\n",
    "\n",
    "# Confusion Matrix\n",
    "conf_matrix = confusion_matrix(y_test, y_pred_adjusted)\n",
    "print(\"\\nConfusion Matrix:\")\n",
    "print(conf_matrix)"
   ]
  },
  {
   "cell_type": "markdown",
   "metadata": {},
   "source": [
    " - learning curve"
   ]
  },
  {
   "cell_type": "code",
   "execution_count": null,
   "metadata": {},
   "outputs": [
    {
     "data": {
      "image/png": "[encoded data removed]",
      "text/plain": [
       "<Figure size 1000x600 with 1 Axes>"
      ]
     },
     "metadata": {},
     "output_type": "display_data"
    }
   ],
   "source": [
    "best_xgb_model.fit(X_train_scaled, y_train_smote)\n",
    "\n",
    "# Learning Curve with StratifiedKFold\n",
    "\n",
    "train_sizes = np.linspace(0.1, 1.0, 10)\n",
    "cv = StratifiedKFold(n_splits=5, shuffle=True, random_state=42)\n",
    "\n",
    "train_sizes, train_scores, val_scores = learning_curve(\n",
    "    best_xgb_model, X_train_scaled, y_train_smote,\n",
    "    cv=cv, scoring=f1_scorer, n_jobs=-1,\n",
    "    train_sizes=train_sizes\n",
    ")\n",
    "\n",
    "# Calculate mean and std\n",
    "train_scores_mean = np.mean(train_scores, axis=1)\n",
    "train_scores_std = np.std(train_scores, axis=1)\n",
    "val_scores_mean = np.mean(val_scores, axis=1)\n",
    "val_scores_std = np.std(val_scores, axis=1)\n",
    "\n",
    "# Plot Learning Curve\n",
    "plt.figure(figsize=(10, 6))\n",
    "plt.plot(train_sizes, train_scores_mean, label='Training F1-Score', color='blue')\n",
    "plt.plot(train_sizes, val_scores_mean, label='Validation F1-Score', color='orange')\n",
    "plt.fill_between(train_sizes, train_scores_mean - train_scores_std, train_scores_mean + train_scores_std, alpha=0.1, color='blue')\n",
    "plt.fill_between(train_sizes, val_scores_mean - val_scores_std, val_scores_mean + val_scores_std, alpha=0.1, color='orange')\n",
    "plt.xlabel('Training Examples')\n",
    "plt.ylabel('F1-Score')\n",
    "plt.title('Learning Curve for Optimized XGBoost Model')\n",
    "plt.legend(loc='best')\n",
    "plt.grid(True)\n",
    "plt.show()"
   ]
  },
  {
   "cell_type": "markdown",
   "metadata": {},
   "source": [
    "# Save model 2 "
   ]
  },
  {
   "cell_type": "code",
   "execution_count": 61,
   "metadata": {},
   "outputs": [
    {
     "data": {
      "text/plain": [
       "['scaler_xgb.pkl']"
      ]
     },
     "execution_count": 61,
     "metadata": {},
     "output_type": "execute_result"
    }
   ],
   "source": [
    "import joblib\n",
    "\n",
    "joblib.dump(best_xgb_model, 'best_xgb_model.pkl')  \n",
    "joblib.dump(scaler, 'scaler_xgb.pkl')      "
   ]
  }
 ],
 "metadata": {
  "kernelspec": {
   "display_name": "Python 3",
   "language": "python",
   "name": "python3"
  },
  "language_info": {
   "codemirror_mode": {
    "name": "ipython",
    "version": 3
   },
   "file_extension": ".py",
   "mimetype": "text/x-python",
   "name": "python",
   "nbconvert_exporter": "python",
   "pygments_lexer": "ipython3",
   "version": "3.10.6"
  }
 },
 "nbformat": 4,
 "nbformat_minor": 2
}
