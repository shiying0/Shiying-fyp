{
 "cells": [
  {
   "cell_type": "markdown",
   "metadata": {},
   "source": [
    "# Load file"
   ]
  },
  {
   "cell_type": "code",
   "execution_count": 1,
   "metadata": {},
   "outputs": [],
   "source": [
    "import numpy as np\n",
    "import sklearn as sk\n",
    "import pandas as pd\n",
    "from time import time\n",
    "import matplotlib.pyplot as plt\n",
    "from sklearn import metrics\n",
    "import gc\n",
    "import time\n",
    "\n",
    "from sklearn.decomposition import PCA\n",
    "from sklearn.preprocessing import scale\n",
    "from sklearn.model_selection import train_test_split\n",
    "from sklearn.metrics import confusion_matrix\n",
    "from sklearn.metrics import accuracy_score\n",
    "from sklearn.metrics import precision_score\n",
    "from sklearn.metrics import recall_score\n",
    "from sklearn.metrics import f1_score\n",
    "from sklearn.metrics import make_scorer\n",
    "from sklearn.metrics import roc_auc_score\n",
    "from sklearn.metrics import auc, roc_curve\n",
    "from sklearn.metrics import precision_recall_curve\n",
    "from sklearn.metrics import balanced_accuracy_score\n",
    "from sklearn.metrics import classification_report\n",
    "\n",
    "import seaborn as sns\n",
    "from pylab import rcParams\n",
    "import pickle\n",
    "from sklearn import metrics\n",
    "from sklearn.decomposition import PCA\n",
    "from mpl_toolkits.mplot3d import Axes3D\n",
    "\n",
    "from pyod.utils.example import visualize\n",
    "import warnings\n",
    "import matplotlib.font_manager\n",
    "warnings.filterwarnings(\"ignore\")"
   ]
  },
  {
   "cell_type": "code",
   "execution_count": 2,
   "metadata": {},
   "outputs": [],
   "source": [
    "df_path = \"C:/Users/Enduser/OneDrive - Asia Pacific University/uni/Y3S2/fyp/Model_trial/btc_trial_dataset2.csv\"\n",
    "dataset_df = pd.read_csv(df_path)"
   ]
  },
  {
   "cell_type": "markdown",
   "metadata": {},
   "source": [
    "# Drop"
   ]
  },
  {
   "cell_type": "code",
   "execution_count": 3,
   "metadata": {},
   "outputs": [],
   "source": [
    "drop_cols = ['tx_hash', 'is_malicious', 'all_malicious', 'mean_in_btc', 'mean_out_btc','in_malicious']\n",
    "dataset_df.drop(columns=drop_cols, inplace=True)"
   ]
  },
  {
   "cell_type": "code",
   "execution_count": 4,
   "metadata": {},
   "outputs": [
    {
     "data": {
      "text/html": [
       "<div>\n",
       "<style scoped>\n",
       "    .dataframe tbody tr th:only-of-type {\n",
       "        vertical-align: middle;\n",
       "    }\n",
       "\n",
       "    .dataframe tbody tr th {\n",
       "        vertical-align: top;\n",
       "    }\n",
       "\n",
       "    .dataframe thead th {\n",
       "        text-align: right;\n",
       "    }\n",
       "</style>\n",
       "<table border=\"1\" class=\"dataframe\">\n",
       "  <thead>\n",
       "    <tr style=\"text-align: right;\">\n",
       "      <th></th>\n",
       "      <th>indegree</th>\n",
       "      <th>outdegree</th>\n",
       "      <th>in_btc</th>\n",
       "      <th>out_btc</th>\n",
       "      <th>total_btc</th>\n",
       "      <th>out_malicious</th>\n",
       "      <th>out_and_tx_malicious</th>\n",
       "    </tr>\n",
       "  </thead>\n",
       "  <tbody>\n",
       "    <tr>\n",
       "      <th>0</th>\n",
       "      <td>4</td>\n",
       "      <td>2</td>\n",
       "      <td>0.478187</td>\n",
       "      <td>0.476987</td>\n",
       "      <td>0.955174</td>\n",
       "      <td>0</td>\n",
       "      <td>0</td>\n",
       "    </tr>\n",
       "    <tr>\n",
       "      <th>1</th>\n",
       "      <td>3</td>\n",
       "      <td>2</td>\n",
       "      <td>2.019000</td>\n",
       "      <td>2.018500</td>\n",
       "      <td>4.037500</td>\n",
       "      <td>0</td>\n",
       "      <td>0</td>\n",
       "    </tr>\n",
       "    <tr>\n",
       "      <th>2</th>\n",
       "      <td>1</td>\n",
       "      <td>1</td>\n",
       "      <td>0.180100</td>\n",
       "      <td>0.180100</td>\n",
       "      <td>0.360200</td>\n",
       "      <td>0</td>\n",
       "      <td>0</td>\n",
       "    </tr>\n",
       "    <tr>\n",
       "      <th>3</th>\n",
       "      <td>1</td>\n",
       "      <td>2</td>\n",
       "      <td>5.879800</td>\n",
       "      <td>5.879300</td>\n",
       "      <td>11.759100</td>\n",
       "      <td>0</td>\n",
       "      <td>0</td>\n",
       "    </tr>\n",
       "    <tr>\n",
       "      <th>4</th>\n",
       "      <td>4</td>\n",
       "      <td>2</td>\n",
       "      <td>0.495906</td>\n",
       "      <td>0.495406</td>\n",
       "      <td>0.991312</td>\n",
       "      <td>0</td>\n",
       "      <td>0</td>\n",
       "    </tr>\n",
       "  </tbody>\n",
       "</table>\n",
       "</div>"
      ],
      "text/plain": [
       "   indegree  outdegree    in_btc   out_btc  total_btc  out_malicious  \\\n",
       "0         4          2  0.478187  0.476987   0.955174              0   \n",
       "1         3          2  2.019000  2.018500   4.037500              0   \n",
       "2         1          1  0.180100  0.180100   0.360200              0   \n",
       "3         1          2  5.879800  5.879300  11.759100              0   \n",
       "4         4          2  0.495906  0.495406   0.991312              0   \n",
       "\n",
       "   out_and_tx_malicious  \n",
       "0                     0  \n",
       "1                     0  \n",
       "2                     0  \n",
       "3                     0  \n",
       "4                     0  "
      ]
     },
     "execution_count": 4,
     "metadata": {},
     "output_type": "execute_result"
    }
   ],
   "source": [
    "dataset_df.head()"
   ]
  },
  {
   "cell_type": "markdown",
   "metadata": {},
   "source": [
    "# Spilt"
   ]
  },
  {
   "cell_type": "code",
   "execution_count": 5,
   "metadata": {},
   "outputs": [
    {
     "name": "stdout",
     "output_type": "stream",
     "text": [
      "Data Split Complete:\n",
      "Train Size: 72000\n",
      "Validation Size: 8000\n",
      "Test Size: 20000\n"
     ]
    }
   ],
   "source": [
    "from sklearn.model_selection import train_test_split\n",
    "\n",
    "# Load dataset\n",
    "X = dataset_df.drop('out_and_tx_malicious', axis=1)\n",
    "y = dataset_df['out_and_tx_malicious']\n",
    "\n",
    "# Split dataset into Train (80%) and Test (20%) ensuring stratification\n",
    "X_train, X_test, y_train, y_test = train_test_split(\n",
    "    X, y, test_size=0.2, stratify=y, random_state=42\n",
    ")\n",
    "\n",
    "# Further split Train into Train (90%) and Validation (10%)\n",
    "X_train, X_val, y_train, y_val = train_test_split(\n",
    "    X_train, y_train, test_size=0.10, stratify=y_train, random_state=42\n",
    ")\n",
    "\n",
    "print(\"Data Split Complete:\")\n",
    "print(f\"Train Size: {X_train.shape[0]}\")\n",
    "print(f\"Validation Size: {X_val.shape[0]}\")\n",
    "print(f\"Test Size: {X_test.shape[0]}\")\n"
   ]
  },
  {
   "cell_type": "code",
   "execution_count": 6,
   "metadata": {},
   "outputs": [
    {
     "name": "stdout",
     "output_type": "stream",
     "text": [
      "Index(['indegree', 'outdegree', 'in_btc', 'out_btc', 'total_btc',\n",
      "       'in_malicious', 'out_malicious'],\n",
      "      dtype='object')\n"
     ]
    }
   ],
   "source": [
    "print(X_test.columns)"
   ]
  },
  {
   "cell_type": "markdown",
   "metadata": {},
   "source": [
    "# log"
   ]
  },
  {
   "cell_type": "code",
   "execution_count": 7,
   "metadata": {},
   "outputs": [
    {
     "name": "stdout",
     "output_type": "stream",
     "text": [
      "Log Transformation Complete\n"
     ]
    }
   ],
   "source": [
    "# Define features for log transformation\n",
    "log_features = ['indegree', 'outdegree', 'in_btc', 'out_btc', 'total_btc']\n",
    "\n",
    "# Apply log transformation\n",
    "for df in [X_train, X_val, X_test]:  \n",
    "    df[log_features] = np.log1p(df[log_features])  # log1p avoids log(0)\n",
    "\n",
    "print(\"Log Transformation Complete\")\n"
   ]
  },
  {
   "cell_type": "markdown",
   "metadata": {},
   "source": [
    "# Feature Engineer"
   ]
  },
  {
   "cell_type": "code",
   "execution_count": 8,
   "metadata": {},
   "outputs": [
    {
     "name": "stdout",
     "output_type": "stream",
     "text": [
      "Feature Engineering Complete\n"
     ]
    }
   ],
   "source": [
    "# Feature Engineering Function\n",
    "def add_features(df):\n",
    "    df['out_malicious_to_total_btc'] = df['out_malicious'] / (df['total_btc'] + 1e-6)\n",
    "    df['log_total_btc'] = np.log1p(df['total_btc'])\n",
    "    df['out_malicious_in_btc_interaction'] = df['out_malicious'] * df['in_btc']\n",
    "    df['net_btc_flow'] = df['in_btc'] - df['out_btc']\n",
    "    return df\n",
    "\n",
    "# Apply feature engineering to Train, Validation, and Test sets\n",
    "X_train_fe = add_features(X_train)\n",
    "X_val_fe = add_features(X_val)\n",
    "X_test_fe = add_features(X_test)\n",
    "\n",
    "# Select the final set of features\n",
    "selected_features = [\n",
    "    'in_btc', 'out_btc', 'total_btc', 'out_malicious','indegree','outdegree',\n",
    "    'out_malicious_to_total_btc', 'log_total_btc',\n",
    "    'out_malicious_in_btc_interaction', 'net_btc_flow'\n",
    "]\n",
    "\n",
    "X_train_final = X_train_fe[selected_features]\n",
    "X_val_final = X_val_fe[selected_features]\n",
    "X_test_final = X_test_fe[selected_features]\n",
    "\n",
    "print(\"Feature Engineering Complete\")\n",
    "\n",
    "# After feature engineering and selection\n",
    "# X_test_final = X_test_fe[selected_features]\n",
    "# X_test_final.to_csv('X_test.csv', index=False)  # Overwrite the original save\n",
    "# pd.DataFrame({'out_and_tx_malicious': y_test}).to_csv('y_test.csv', index=False)\n",
    "\n",
    "X_val_final = X_val_fe[selected_features]\n",
    "X_val_final.to_csv('X_val.csv', index=False)  # Overwrite the original save\n",
    "pd.DataFrame({'out_and_tx_malicious': y_val}).to_csv('y_val.csv', index=False)\n"
   ]
  },
  {
   "cell_type": "markdown",
   "metadata": {},
   "source": [
    "#  Smote"
   ]
  },
  {
   "cell_type": "code",
   "execution_count": 9,
   "metadata": {},
   "outputs": [
    {
     "name": "stdout",
     "output_type": "stream",
     "text": [
      "Class distribution after SMOTE:\n",
      "out_and_tx_malicious\n",
      "0    71923\n",
      "1      719\n",
      "Name: count, dtype: int64\n"
     ]
    }
   ],
   "source": [
    "from imblearn.over_sampling import SMOTE\n",
    "import pandas as pd\n",
    "\n",
    "# Apply SMOTE to handle class imbalance\n",
    "smote = SMOTE(sampling_strategy=0.01, random_state=42)\n",
    "X_train_smote, y_train_smote = smote.fit_resample(X_train_final, y_train)\n",
    "\n",
    "print(\"Class distribution after SMOTE:\")\n",
    "print(pd.Series(y_train_smote).value_counts())\n"
   ]
  },
  {
   "cell_type": "markdown",
   "metadata": {},
   "source": [
    "# Robust Scale"
   ]
  },
  {
   "cell_type": "code",
   "execution_count": 10,
   "metadata": {},
   "outputs": [
    {
     "name": "stdout",
     "output_type": "stream",
     "text": [
      "Scaling Complete\n"
     ]
    }
   ],
   "source": [
    "from sklearn.preprocessing import RobustScaler\n",
    "\n",
    "# Initialize RobustScaler\n",
    "scaler = RobustScaler()\n",
    "\n",
    "# Fit and transform Train set\n",
    "X_train_scaled = scaler.fit_transform(X_train_smote)\n",
    "\n",
    "# Transform Validation and Test sets using the same scaler\n",
    "X_val_scaled = scaler.transform(X_val_final)\n",
    "X_test_scaled = scaler.transform(X_test_final)\n",
    "\n",
    "# Convert back to DataFrame\n",
    "X_train_scaled_df = pd.DataFrame(X_train_scaled, columns=X_train_final.columns)\n",
    "X_val_scaled_df = pd.DataFrame(X_val_scaled, columns=X_val_final.columns)\n",
    "X_test_scaled_df = pd.DataFrame(X_test_scaled, columns=X_test_final.columns)\n",
    "\n",
    "print(\"Scaling Complete\")\n"
   ]
  },
  {
   "cell_type": "markdown",
   "metadata": {},
   "source": [
    "-------------------------------------------"
   ]
  },
  {
   "cell_type": "markdown",
   "metadata": {},
   "source": [
    "# Random Forest Model Building"
   ]
  },
  {
   "cell_type": "code",
   "execution_count": null,
   "metadata": {},
   "outputs": [
    {
     "name": "stdout",
     "output_type": "stream",
     "text": [
      "\n",
      " Model training completed.\n",
      "\n",
      " Random Forest Results with Threshold 0.89:\n",
      "              precision    recall  f1-score   support\n",
      "\n",
      "           0       1.00      1.00      1.00     19978\n",
      "           1       1.00      0.64      0.78        22\n",
      "\n",
      "    accuracy                           1.00     20000\n",
      "   macro avg       1.00      0.82      0.89     20000\n",
      "weighted avg       1.00      1.00      1.00     20000\n",
      "\n"
     ]
    },
    {
     "data": {
      "image/png": "[encoded data removed]",
      "text/plain": [
       "<Figure size 800x600 with 1 Axes>"
      ]
     },
     "metadata": {},
     "output_type": "display_data"
    },
    {
     "name": "stdout",
     "output_type": "stream",
     "text": [
      " Precision-Recall curve saved as 'precision_recall_curve_rf_0.89.png'\n",
      "\n",
      " Generating learning curve...\n"
     ]
    },
    {
     "data": {
      "image/png": "[encoded data removed]",
      "text/plain": [
       "<Figure size 1000x600 with 1 Axes>"
      ]
     },
     "metadata": {},
     "output_type": "display_data"
    },
    {
     "name": "stdout",
     "output_type": "stream",
     "text": [
      " Learning curve saved as 'learning_curve_rf_0.89_updated.png'\n",
      "\n",
      " Cross-validated F1-score (fraud class): 0.8764\n"
     ]
    }
   ],
   "source": [
    "import numpy as np\n",
    "import matplotlib.pyplot as plt\n",
    "import pandas as pd\n",
    "from sklearn.ensemble import RandomForestClassifier\n",
    "from sklearn.metrics import classification_report, f1_score, make_scorer\n",
    "from sklearn.metrics import precision_recall_curve, auc\n",
    "from sklearn.model_selection import learning_curve, cross_val_score\n",
    "\n",
    "# Custom F1 scorer to handle zero division\n",
    "f1_scorer = make_scorer(f1_score, zero_division=0)\n",
    "\n",
    "# Train Random Forest Model\n",
    "rf_model = RandomForestClassifier(\n",
    "    n_estimators=80,            # More trees for stability\n",
    "    max_depth=15,               # Increased depth for better performance\n",
    "    min_samples_split=2,        # Allows more splits for deeper trees\n",
    "    class_weight={0: 1, 1: 50}, # Handles class imbalance (higher fraud weight)\n",
    "    random_state=42,\n",
    "    n_jobs=-1                    # Uses all CPU cores for faster training\n",
    ")\n",
    "\n",
    "rf_model.fit(X_train_scaled, y_train_smote)\n",
    "print(\"\\n Model training completed.\")\n",
    "\n",
    "# Model Evaluation with Threshold 0.89\n",
    "y_scores = rf_model.predict_proba(X_test_scaled_df)[:, 1]  \n",
    "y_pred_adjusted = (y_scores >= 0.89).astype(int)\n",
    "\n",
    "print(\"\\n Random Forest Results with Threshold 0.89:\")\n",
    "print(classification_report(y_test, y_pred_adjusted, zero_division=0))\n",
    "\n",
    "# Precision-Recall Curve\n",
    "precision, recall, thresholds = precision_recall_curve(y_test, y_scores)\n",
    "pr_auc = auc(recall, precision)\n",
    "\n",
    "# Plot Precision-Recall Curve\n",
    "plt.figure(figsize=(8, 6))\n",
    "plt.plot(recall, precision, label=f'PR AUC = {pr_auc:.2f}')\n",
    "plt.axvline(x=0.727, color='r', linestyle='--', label='Target Recall ≥ 0.727')\n",
    "plt.axhline(y=0.615, color='g', linestyle='--', label='Target Precision ≥ 0.615')\n",
    "plt.xlabel('Recall')\n",
    "plt.ylabel('Precision')\n",
    "plt.title('Precision-Recall Curve (Random Forest with SMOTE)')\n",
    "plt.legend()\n",
    "plt.grid(True)\n",
    "plt.savefig('precision_recall_curve_rf_0.89.png')\n",
    "plt.show()\n",
    "print(\" Precision-Recall curve saved as 'precision_recall_curve_rf_0.89.png'\")\n",
    "\n",
    "# Learning Curve\n",
    "print(\"\\n Generating learning curve...\")\n",
    "train_sizes, train_scores, val_scores = learning_curve(\n",
    "    rf_model, X_train_scaled, y_train_smote, \n",
    "    cv=5, scoring=f1_scorer, n_jobs=-1, \n",
    "    train_sizes=np.linspace(0.2, 1.0, 10)  \n",
    ")\n",
    "\n",
    "# Replace NaN values with 0 to ensure proper plotting\n",
    "train_scores = np.nan_to_num(train_scores, nan=0.0)\n",
    "val_scores = np.nan_to_num(val_scores, nan=0.0)\n",
    "\n",
    "# Calculate mean and std deviation for shading\n",
    "train_mean = np.mean(train_scores, axis=1)\n",
    "train_std = np.std(train_scores, axis=1)\n",
    "val_mean = np.mean(val_scores, axis=1)\n",
    "val_std = np.std(val_scores, axis=1)\n",
    "\n",
    "# Plot Learning Curve\n",
    "plt.figure(figsize=(10, 6))\n",
    "plt.plot(train_sizes, train_mean, label='Training F1-score', color='blue')\n",
    "plt.plot(train_sizes, val_mean, label='Validation F1-score', color='orange')\n",
    "plt.fill_between(train_sizes, train_mean - train_std, train_mean + train_std, color='blue', alpha=0.1)\n",
    "plt.fill_between(train_sizes, val_mean - val_std, val_mean + val_std, color='orange', alpha=0.1)\n",
    "plt.xlabel('Training Samples')\n",
    "plt.ylabel('F1-score')\n",
    "plt.title('Learning Curve (Random Forest with SMOTE at Threshold 0.89)')\n",
    "plt.legend(loc='best')\n",
    "plt.grid(True)\n",
    "plt.savefig('learning_curve_rf_0.89_updated.png')\n",
    "plt.show()\n",
    "print(\" Learning curve saved as 'learning_curve_rf_0.89_updated.png'\")\n",
    "\n",
    "#  Cross-Validation\n",
    "cv_scores = cross_val_score(rf_model, X_train_scaled, y_train_smote, cv=10, scoring='f1', n_jobs=-1)\n",
    "print(\"\\n Cross-validated F1-score (fraud class):\", round(cv_scores.mean(), 4))\n"
   ]
  },
  {
   "cell_type": "code",
   "execution_count": 27,
   "metadata": {},
   "outputs": [
    {
     "name": "stdout",
     "output_type": "stream",
     "text": [
      "\n",
      "Confusion Matrix:\n",
      "[[19978     0]\n",
      " [    8    14]]\n"
     ]
    }
   ],
   "source": [
    "# Compute confusion matrix\n",
    "conf_matrix = confusion_matrix(y_test, y_pred_adjusted)\n",
    "print(\"\\nConfusion Matrix:\")\n",
    "print(conf_matrix)"
   ]
  },
  {
   "cell_type": "markdown",
   "metadata": {},
   "source": [
    "# save RF model 1"
   ]
  },
  {
   "cell_type": "code",
   "execution_count": 28,
   "metadata": {},
   "outputs": [
    {
     "data": {
      "text/plain": [
       "['scaler_rf.pkl']"
      ]
     },
     "execution_count": 28,
     "metadata": {},
     "output_type": "execute_result"
    }
   ],
   "source": [
    "import joblib\n",
    "\n",
    "joblib.dump(rf_model, 'rf_model.pkl')  \n",
    "joblib.dump(scaler, 'scaler_rf.pkl')      "
   ]
  },
  {
   "cell_type": "markdown",
   "metadata": {},
   "source": [
    "# Grid Search"
   ]
  },
  {
   "cell_type": "code",
   "execution_count": null,
   "metadata": {},
   "outputs": [
    {
     "name": "stdout",
     "output_type": "stream",
     "text": [
      "\n",
      " Running Grid Search for Hyperparameter Tuning...\n",
      "Fitting 5 folds for each of 81 candidates, totalling 405 fits\n",
      "\n",
      " Best Parameters Found: {'class_weight': {0: 1, 1: 30}, 'max_depth': 20, 'min_samples_split': 2, 'n_estimators': 100}\n",
      "\n",
      " Optimized Random Forest Results with Threshold 0.89:\n",
      "              precision    recall  f1-score   support\n",
      "\n",
      "           0       1.00      1.00      1.00     19978\n",
      "           1       1.00      0.64      0.78        22\n",
      "\n",
      "    accuracy                           1.00     20000\n",
      "   macro avg       1.00      0.82      0.89     20000\n",
      "weighted avg       1.00      1.00      1.00     20000\n",
      "\n"
     ]
    }
   ],
   "source": [
    "from sklearn.ensemble import RandomForestClassifier\n",
    "from sklearn.model_selection import GridSearchCV\n",
    "from sklearn.metrics import classification_report, f1_score, make_scorer\n",
    "import numpy as np\n",
    "\n",
    "# Define parameter grid\n",
    "param_grid = {\n",
    "    'n_estimators': [50, 80, 100],        # Number of trees in the forest\n",
    "    'max_depth': [10, 15, 20],            # Maximum depth of the tree\n",
    "    'min_samples_split': [2, 5, 10],      # Minimum samples required to split a node\n",
    "    'class_weight': [{0: 1, 1: 30}, {0: 1, 1: 50}, {0: 1, 1: 70}],  # Adjusting class imbalance\n",
    "}\n",
    "\n",
    "# Initialize Random Forest model\n",
    "rf_model = RandomForestClassifier(random_state=42, n_jobs=-1)\n",
    "\n",
    "# Custom F1 scorer to optimize for fraud detection\n",
    "f1_scorer = make_scorer(f1_score, zero_division=0)\n",
    "\n",
    "# Apply Grid Search with 5-fold cross-validation\n",
    "grid_search = GridSearchCV(\n",
    "    rf_model, param_grid, scoring=f1_scorer, cv=5, n_jobs=-1, verbose=2\n",
    ")\n",
    "\n",
    "# Fit Grid Search to training data\n",
    "print(\"\\n Running Grid Search for Hyperparameter Tuning...\")\n",
    "grid_search.fit(X_train_scaled, y_train_smote)\n",
    "\n",
    "# Get the best parameters\n",
    "best_params = grid_search.best_params_\n",
    "print(\"\\n Best Parameters Found:\", best_params)\n",
    "\n",
    "# Train final model with best parameters\n",
    "best_rf_model = RandomForestClassifier(**best_params, random_state=42, n_jobs=-1)\n",
    "best_rf_model.fit(X_train_scaled, y_train_smote)\n",
    "\n",
    "# Evaluate on Test Set\n",
    "y_scores = best_rf_model.predict_proba(X_test_scaled_df)[:, 1]\n",
    "y_pred_adjusted = (y_scores >= 0.89).astype(int)\n",
    "\n",
    "print(\"\\n Optimized Random Forest Results with Threshold 0.89:\")\n",
    "print(classification_report(y_test, y_pred_adjusted, zero_division=0))\n"
   ]
  },
  {
   "cell_type": "markdown",
   "metadata": {},
   "source": [
    "# save rf model 2 (best model)"
   ]
  },
  {
   "cell_type": "code",
   "execution_count": 30,
   "metadata": {},
   "outputs": [
    {
     "data": {
      "text/plain": [
       "['scaler_rf.pkl']"
      ]
     },
     "execution_count": 30,
     "metadata": {},
     "output_type": "execute_result"
    }
   ],
   "source": [
    "import joblib\n",
    "\n",
    "joblib.dump(best_rf_model, 'best_rf_model.pkl')  \n",
    "joblib.dump(scaler, 'scaler_rf.pkl')      "
   ]
  },
  {
   "cell_type": "markdown",
   "metadata": {},
   "source": [
    "grid search and no grid search has same result"
   ]
  }
 ],
 "metadata": {
  "kernelspec": {
   "display_name": "Python 3",
   "language": "python",
   "name": "python3"
  },
  "language_info": {
   "codemirror_mode": {
    "name": "ipython",
    "version": 3
   },
   "file_extension": ".py",
   "mimetype": "text/x-python",
   "name": "python",
   "nbconvert_exporter": "python",
   "pygments_lexer": "ipython3",
   "version": "3.10.6"
  }
 },
 "nbformat": 4,
 "nbformat_minor": 2
}
