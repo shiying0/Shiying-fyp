{
 "cells": [
  {
   "cell_type": "markdown",
   "metadata": {},
   "source": [
    "# Load file"
   ]
  },
  {
   "cell_type": "code",
   "execution_count": null,
   "metadata": {},
   "outputs": [],
   "source": [
    "import numpy as np\n",
    "import sklearn as sk\n",
    "import pandas as pd\n",
    "from sklearn import metrics\n",
    "from sklearn.model_selection import train_test_split\n",
    "from sklearn.metrics import confusion_matrix\n",
    "from sklearn.metrics import accuracy_score\n",
    "from sklearn.metrics import precision_score\n",
    "from sklearn.metrics import recall_score\n",
    "from sklearn.metrics import f1_score\n",
    "from sklearn.metrics import make_scorer\n",
    "from sklearn.metrics import roc_auc_score\n",
    "from sklearn.metrics import auc, roc_curve\n",
    "from sklearn.metrics import precision_recall_curve\n",
    "from sklearn.metrics import balanced_accuracy_score\n",
    "from sklearn.metrics import classification_report"
   ]
  },
  {
   "cell_type": "code",
   "execution_count": 2,
   "metadata": {},
   "outputs": [],
   "source": [
    "df_path = \"C:/Users/Enduser/OneDrive - Asia Pacific University/uni/Y3S2/fyp/Model_trial/btc_trial_dataset2.csv\"\n",
    "dataset_df = pd.read_csv(df_path)"
   ]
  },
  {
   "cell_type": "markdown",
   "metadata": {},
   "source": [
    "# Feature Selection: Dropping Irrelevant or Redundant Columns\n"
   ]
  },
  {
   "cell_type": "code",
   "execution_count": 3,
   "metadata": {},
   "outputs": [],
   "source": [
    "drop_cols = ['tx_hash', 'is_malicious', 'all_malicious', 'mean_in_btc', 'mean_out_btc']\n",
    "dataset_df.drop(columns=drop_cols, inplace=True)"
   ]
  },
  {
   "cell_type": "code",
   "execution_count": 4,
   "metadata": {},
   "outputs": [
    {
     "data": {
      "text/html": [
       "<div>\n",
       "<style scoped>\n",
       "    .dataframe tbody tr th:only-of-type {\n",
       "        vertical-align: middle;\n",
       "    }\n",
       "\n",
       "    .dataframe tbody tr th {\n",
       "        vertical-align: top;\n",
       "    }\n",
       "\n",
       "    .dataframe thead th {\n",
       "        text-align: right;\n",
       "    }\n",
       "</style>\n",
       "<table border=\"1\" class=\"dataframe\">\n",
       "  <thead>\n",
       "    <tr style=\"text-align: right;\">\n",
       "      <th></th>\n",
       "      <th>indegree</th>\n",
       "      <th>outdegree</th>\n",
       "      <th>in_btc</th>\n",
       "      <th>out_btc</th>\n",
       "      <th>total_btc</th>\n",
       "      <th>in_malicious</th>\n",
       "      <th>out_malicious</th>\n",
       "      <th>out_and_tx_malicious</th>\n",
       "    </tr>\n",
       "  </thead>\n",
       "  <tbody>\n",
       "    <tr>\n",
       "      <th>0</th>\n",
       "      <td>4</td>\n",
       "      <td>2</td>\n",
       "      <td>0.478187</td>\n",
       "      <td>0.476987</td>\n",
       "      <td>0.955174</td>\n",
       "      <td>0</td>\n",
       "      <td>0</td>\n",
       "      <td>0</td>\n",
       "    </tr>\n",
       "    <tr>\n",
       "      <th>1</th>\n",
       "      <td>3</td>\n",
       "      <td>2</td>\n",
       "      <td>2.019000</td>\n",
       "      <td>2.018500</td>\n",
       "      <td>4.037500</td>\n",
       "      <td>0</td>\n",
       "      <td>0</td>\n",
       "      <td>0</td>\n",
       "    </tr>\n",
       "    <tr>\n",
       "      <th>2</th>\n",
       "      <td>1</td>\n",
       "      <td>1</td>\n",
       "      <td>0.180100</td>\n",
       "      <td>0.180100</td>\n",
       "      <td>0.360200</td>\n",
       "      <td>0</td>\n",
       "      <td>0</td>\n",
       "      <td>0</td>\n",
       "    </tr>\n",
       "    <tr>\n",
       "      <th>3</th>\n",
       "      <td>1</td>\n",
       "      <td>2</td>\n",
       "      <td>5.879800</td>\n",
       "      <td>5.879300</td>\n",
       "      <td>11.759100</td>\n",
       "      <td>0</td>\n",
       "      <td>0</td>\n",
       "      <td>0</td>\n",
       "    </tr>\n",
       "    <tr>\n",
       "      <th>4</th>\n",
       "      <td>4</td>\n",
       "      <td>2</td>\n",
       "      <td>0.495906</td>\n",
       "      <td>0.495406</td>\n",
       "      <td>0.991312</td>\n",
       "      <td>0</td>\n",
       "      <td>0</td>\n",
       "      <td>0</td>\n",
       "    </tr>\n",
       "  </tbody>\n",
       "</table>\n",
       "</div>"
      ],
      "text/plain": [
       "   indegree  outdegree    in_btc   out_btc  total_btc  in_malicious  \\\n",
       "0         4          2  0.478187  0.476987   0.955174             0   \n",
       "1         3          2  2.019000  2.018500   4.037500             0   \n",
       "2         1          1  0.180100  0.180100   0.360200             0   \n",
       "3         1          2  5.879800  5.879300  11.759100             0   \n",
       "4         4          2  0.495906  0.495406   0.991312             0   \n",
       "\n",
       "   out_malicious  out_and_tx_malicious  \n",
       "0              0                     0  \n",
       "1              0                     0  \n",
       "2              0                     0  \n",
       "3              0                     0  \n",
       "4              0                     0  "
      ]
     },
     "execution_count": 4,
     "metadata": {},
     "output_type": "execute_result"
    }
   ],
   "source": [
    "dataset_df.head()"
   ]
  },
  {
   "cell_type": "markdown",
   "metadata": {},
   "source": [
    "# Data Splitting"
   ]
  },
  {
   "cell_type": "code",
   "execution_count": 5,
   "metadata": {},
   "outputs": [
    {
     "name": "stdout",
     "output_type": "stream",
     "text": [
      "Data Split Complete:\n",
      "Train Size: 72000\n",
      "Validation Size: 8000\n",
      "Test Size: 20000\n"
     ]
    }
   ],
   "source": [
    "from sklearn.model_selection import train_test_split\n",
    "\n",
    "# Load dataset\n",
    "X = dataset_df.drop('out_and_tx_malicious', axis=1)\n",
    "y = dataset_df['out_and_tx_malicious']\n",
    "\n",
    "# Split dataset into Train (80%) and Test (20%) ensuring stratification\n",
    "X_train, X_test, y_train, y_test = train_test_split(\n",
    "    X, y, test_size=0.2, stratify=y, random_state=42\n",
    ")\n",
    "\n",
    "# Further split Train into Train (90%) and Validation (10%)\n",
    "X_train, X_val, y_train, y_val = train_test_split(\n",
    "    X_train, y_train, test_size=0.10, stratify=y_train, random_state=42\n",
    ")\n",
    "\n",
    "print(\"Data Split Complete:\")\n",
    "print(f\"Train Size: {X_train.shape[0]}\")\n",
    "print(f\"Validation Size: {X_val.shape[0]}\")\n",
    "print(f\"Test Size: {X_test.shape[0]}\")\n"
   ]
  },
  {
   "cell_type": "code",
   "execution_count": 6,
   "metadata": {},
   "outputs": [
    {
     "name": "stdout",
     "output_type": "stream",
     "text": [
      "Index(['indegree', 'outdegree', 'in_btc', 'out_btc', 'total_btc',\n",
      "       'in_malicious', 'out_malicious'],\n",
      "      dtype='object')\n"
     ]
    }
   ],
   "source": [
    "print(X_test.columns)"
   ]
  },
  {
   "cell_type": "markdown",
   "metadata": {},
   "source": [
    "# Feature Scaling: Logarithmic Transformation "
   ]
  },
  {
   "cell_type": "code",
   "execution_count": 7,
   "metadata": {},
   "outputs": [
    {
     "name": "stdout",
     "output_type": "stream",
     "text": [
      "Log Transformation Complete\n"
     ]
    }
   ],
   "source": [
    "\n",
    "# Define features for log transformation\n",
    "log_features = ['indegree', 'outdegree', 'in_btc', 'out_btc', 'total_btc']\n",
    "\n",
    "# Apply log transformation\n",
    "for df in [X_train, X_val, X_test]:  \n",
    "    df[log_features] = np.log1p(df[log_features])  # log1p avoids log(0)\n",
    "\n",
    "print(\"Log Transformation Complete\")\n"
   ]
  },
  {
   "cell_type": "markdown",
   "metadata": {},
   "source": [
    "# Feature Engineer"
   ]
  },
  {
   "cell_type": "code",
   "execution_count": 8,
   "metadata": {},
   "outputs": [
    {
     "name": "stdout",
     "output_type": "stream",
     "text": [
      "Feature Engineering Complete\n"
     ]
    }
   ],
   "source": [
    "# Feature Engineering Function\n",
    "def add_features(df):\n",
    "    df['out_malicious_to_total_btc'] = df['out_malicious'] / (df['total_btc'] + 1e-6)\n",
    "    df['log_total_btc'] = np.log1p(df['total_btc'])\n",
    "    df['out_malicious_in_btc_interaction'] = df['out_malicious'] * df['in_btc']\n",
    "    df['net_btc_flow'] = df['in_btc'] - df['out_btc']\n",
    "    return df\n",
    "\n",
    "# Apply feature engineering to Train, Validation, and Test sets\n",
    "X_train_fe = add_features(X_train)\n",
    "X_val_fe = add_features(X_val)\n",
    "X_test_fe = add_features(X_test)\n",
    "\n",
    "# Select the final set of features\n",
    "selected_features = [\n",
    "    'in_btc', 'out_btc', 'total_btc', 'out_malicious','indegree','outdegree',\n",
    "    'out_malicious_to_total_btc', 'log_total_btc',\n",
    "    'out_malicious_in_btc_interaction', 'net_btc_flow'\n",
    "]\n",
    "\n",
    "X_train_final = X_train_fe[selected_features]\n",
    "X_val_final = X_val_fe[selected_features]\n",
    "X_test_final = X_test_fe[selected_features]\n",
    "\n",
    "print(\"Feature Engineering Complete\")\n",
    "\n",
    "# After feature engineering and selection\n",
    "X_test_final = X_test_fe[selected_features]\n",
    "X_test_final.to_csv('X_test.csv', index=False)  # Overwrite the original save\n",
    "pd.DataFrame({'out_and_tx_malicious': y_test}).to_csv('y_test.csv', index=False)\n"
   ]
  },
  {
   "cell_type": "markdown",
   "metadata": {},
   "source": [
    "#  Data Balancing - Smote"
   ]
  },
  {
   "cell_type": "code",
   "execution_count": 9,
   "metadata": {},
   "outputs": [
    {
     "name": "stdout",
     "output_type": "stream",
     "text": [
      "Class distribution after SMOTE:\n",
      "out_and_tx_malicious\n",
      "0    71923\n",
      "1      719\n",
      "Name: count, dtype: int64\n"
     ]
    }
   ],
   "source": [
    "from imblearn.over_sampling import SMOTE\n",
    "import pandas as pd\n",
    "\n",
    "# Apply SMOTE to handle class imbalance\n",
    "smote = SMOTE(sampling_strategy=0.01, random_state=42)\n",
    "X_train_smote, y_train_smote = smote.fit_resample(X_train_final, y_train)\n",
    "\n",
    "print(\"Class distribution after SMOTE:\")\n",
    "print(pd.Series(y_train_smote).value_counts())\n"
   ]
  },
  {
   "cell_type": "markdown",
   "metadata": {},
   "source": [
    "# Feature Scaling: Robust Scaling"
   ]
  },
  {
   "cell_type": "code",
   "execution_count": 10,
   "metadata": {},
   "outputs": [
    {
     "name": "stdout",
     "output_type": "stream",
     "text": [
      "Scaling Complete\n"
     ]
    }
   ],
   "source": [
    "from sklearn.preprocessing import RobustScaler\n",
    "\n",
    "# Initialize RobustScaler\n",
    "scaler = RobustScaler()\n",
    "\n",
    "# Fit and transform Train set\n",
    "X_train_scaled = scaler.fit_transform(X_train_smote)\n",
    "\n",
    "# Transform Validation and Test sets using the same scaler\n",
    "X_val_scaled = scaler.transform(X_val_final)\n",
    "X_test_scaled = scaler.transform(X_test_final)\n",
    "\n",
    "# Convert back to DataFrame\n",
    "X_train_scaled_df = pd.DataFrame(X_train_scaled, columns=X_train_final.columns)\n",
    "X_val_scaled_df = pd.DataFrame(X_val_scaled, columns=X_val_final.columns)\n",
    "X_test_scaled_df = pd.DataFrame(X_test_scaled, columns=X_test_final.columns)\n",
    "\n",
    "print(\"Scaling Complete\")\n"
   ]
  },
  {
   "cell_type": "markdown",
   "metadata": {},
   "source": [
    "-------------------------------------------"
   ]
  },
  {
   "cell_type": "markdown",
   "metadata": {},
   "source": [
    "# Ensemble Model 1 "
   ]
  },
  {
   "cell_type": "markdown",
   "metadata": {},
   "source": [
    "XGBoost + Random Forest + LightGBM"
   ]
  },
  {
   "cell_type": "code",
   "execution_count": null,
   "metadata": {},
   "outputs": [
    {
     "name": "stdout",
     "output_type": "stream",
     "text": [
      "Test Accuracy: 0.9809\n",
      "Test ROC-AUC: 0.9899\n",
      "Test Classification Report (Default Threshold):\n",
      "               precision    recall  f1-score   support\n",
      "\n",
      "           0       1.00      0.98      0.99     19978\n",
      "           1       0.05      0.86      0.09        22\n",
      "\n",
      "    accuracy                           0.98     20000\n",
      "   macro avg       0.52      0.92      0.54     20000\n",
      "weighted avg       1.00      0.98      0.99     20000\n",
      "\n",
      "PR-AUC: 0.6963\n",
      "Optimal Threshold (Recall >= 0.9, Precision >= 0.3): 0.0739\n",
      "Precision at Threshold: 0.0179\n",
      "Recall at Threshold: 0.9091\n",
      "\n",
      "Test Classification Report with Optimal Threshold:\n",
      "               precision    recall  f1-score   support\n",
      "\n",
      "           0       1.00      0.94      0.97     19978\n",
      "           1       0.02      0.91      0.04        22\n",
      "\n",
      "    accuracy                           0.94     20000\n",
      "   macro avg       0.51      0.93      0.50     20000\n",
      "weighted avg       1.00      0.94      0.97     20000\n",
      "\n",
      "\n",
      "Cross-Validation F1-Scores: [np.float64(0.25645592163846836), np.float64(0.24444444444444444), np.float64(0.26062846580406657), np.float64(0.23833333333333334), np.float64(0.32009345794392524)]\n",
      "Average CV F1-Score: 0.264\n",
      "Cross-Validation Recall-Scores: [np.float64(1.0), np.float64(0.9930555555555556), np.float64(0.986013986013986), np.float64(0.9930555555555556), np.float64(0.9513888888888888)]\n",
      "Average CV Recall: 0.985\n",
      "Cross-Validation Precision-Scores: [np.float64(0.1470888661899898), np.float64(0.13937621832358674), np.float64(0.1501597444089457), np.float64(0.13541666666666666), np.float64(0.19241573033707865)]\n",
      "Average CV Precision: 0.153\n"
     ]
    },
    {
     "data": {
      "image/png": "[encoded data removed]",
      "text/plain": [
       "<Figure size 640x480 with 1 Axes>"
      ]
     },
     "metadata": {},
     "output_type": "display_data"
    }
   ],
   "source": [
    "from sklearn.metrics import classification_report, accuracy_score, roc_auc_score, precision_recall_curve, auc, f1_score, recall_score, precision_score\n",
    "from sklearn.ensemble import RandomForestClassifier, StackingClassifier\n",
    "from sklearn.linear_model import LogisticRegression\n",
    "from sklearn.model_selection import StratifiedKFold\n",
    "from xgboost import XGBClassifier\n",
    "from lightgbm import LGBMClassifier\n",
    "import matplotlib.pyplot as plt\n",
    "\n",
    "#  Compute Class Weights (for Imbalanced Data)\n",
    "class_counts = np.bincount(y_train_smote)\n",
    "scale_pos_weight = class_counts[0] / class_counts[1] * 0.6 \n",
    "\n",
    "# Define Base Models\n",
    "# XGBoost (High Precision)\n",
    "xgb_model = XGBClassifier(\n",
    "    scale_pos_weight=scale_pos_weight,\n",
    "    max_depth=3,\n",
    "    min_child_weight=5,\n",
    "    gamma=0.25,\n",
    "    subsample=0.7,\n",
    "    colsample_bytree=0.7,\n",
    "    learning_rate=0.05,\n",
    "    n_estimators=200,\n",
    "    reg_alpha=0.02,\n",
    "    reg_lambda=0.1,\n",
    "    eval_metric='logloss',\n",
    "    random_state=42,\n",
    "    use_label_encoder=False\n",
    ")\n",
    "\n",
    "# LightGBM (High Recall)\n",
    "lgbm_model = LGBMClassifier(\n",
    "    scale_pos_weight=scale_pos_weight,\n",
    "    max_depth=3,\n",
    "    min_child_weight=5,\n",
    "    num_leaves=12,\n",
    "    learning_rate=0.05,\n",
    "    n_estimators=200,\n",
    "    subsample=0.7,\n",
    "    colsample_bytree=0.7,\n",
    "    reg_alpha=0.02,\n",
    "    reg_lambda=0.1,\n",
    "    random_state=42,\n",
    "    verbose=-1\n",
    ")\n",
    "\n",
    "# Random Forest (Balanced)\n",
    "rf_model = RandomForestClassifier(\n",
    "    n_estimators=200,\n",
    "    max_depth=10,\n",
    "    min_samples_split=5,\n",
    "    min_samples_leaf=2,\n",
    "    class_weight='balanced',\n",
    "    random_state=42\n",
    ")\n",
    "\n",
    "# Define Stacking Ensemble with Logistic Regression as Meta-Learner\n",
    "estimators = [\n",
    "    ('xgb', xgb_model),\n",
    "    ('lgbm', lgbm_model),\n",
    "    ('rf', rf_model)\n",
    "]\n",
    "\n",
    "stacking_model = StackingClassifier(\n",
    "    estimators=estimators,\n",
    "    final_estimator=LogisticRegression(class_weight='balanced', random_state=42),\n",
    "    cv=5,\n",
    "    n_jobs=-1\n",
    ")\n",
    "\n",
    "# Train Stacking Model\n",
    "stacking_model.fit(X_train_scaled, y_train_smote)\n",
    "\n",
    "# Model Evaluation with Default Threshold on Test Set\n",
    "y_pred_proba = stacking_model.predict_proba(X_test_scaled)[:, 1]  # Probability of fraud\n",
    "y_pred = (y_pred_proba >= 0.5).astype(int)  # Default threshold\n",
    "\n",
    "accuracy = accuracy_score(y_test, y_pred)\n",
    "roc_auc = roc_auc_score(y_test, y_pred_proba)\n",
    "print(f\"Test Accuracy: {accuracy:.4f}\")\n",
    "print(f\"Test ROC-AUC: {roc_auc:.4f}\")\n",
    "print(\"Test Classification Report (Default Threshold):\\n\", classification_report(y_test, y_pred, zero_division=0))\n",
    "\n",
    "# PR-AUC Calculation and Enhanced Threshold Optimization\n",
    "precision, recall, thresholds = precision_recall_curve(y_test, y_pred_proba)\n",
    "pr_auc = auc(recall, precision)\n",
    "print(f\"PR-AUC: {pr_auc:.4f}\")\n",
    "\n",
    "# Enhanced threshold optimization for recall >= 0.9 and precision >= 0.3\n",
    "recall_target = 0.9\n",
    "precision_floor = 0.3\n",
    "valid_indices = (recall[:-1] >= recall_target) & (precision[:-1] >= precision_floor)\n",
    "\n",
    "if np.any(valid_indices):\n",
    "    valid_thresholds = thresholds[valid_indices]\n",
    "    valid_precision = precision[:-1][valid_indices]\n",
    "    optimal_idx = np.argmax(valid_precision)  # Max precision where recall >= 0.9 and precision >= 0.3\n",
    "    optimal_threshold = valid_thresholds[optimal_idx]\n",
    "    precision_at_threshold = valid_precision[optimal_idx]\n",
    "    recall_at_threshold = recall[:-1][valid_indices][optimal_idx]\n",
    "else:\n",
    "    # If no threshold meets both, prioritize recall >= 0.9 and minimize false positives\n",
    "    valid_indices = recall[:-1] >= recall_target\n",
    "    if np.any(valid_indices):\n",
    "        valid_thresholds = thresholds[valid_indices]\n",
    "        valid_precision = precision[:-1][valid_indices]\n",
    "        valid_precision_filtered = valid_precision[valid_precision >= 0.2]\n",
    "        if len(valid_precision_filtered) > 0:\n",
    "            optimal_idx = np.argmax(valid_precision_filtered)\n",
    "            optimal_threshold = valid_thresholds[valid_indices][np.where(valid_precision >= 0.2)[0][optimal_idx]]\n",
    "            precision_at_threshold = valid_precision_filtered[optimal_idx]\n",
    "            recall_at_threshold = recall[:-1][valid_indices][np.where(valid_precision >= 0.2)[0][optimal_idx]]\n",
    "        else:\n",
    "            optimal_idx = np.argmax(valid_precision)\n",
    "            optimal_threshold = valid_thresholds[optimal_idx]\n",
    "            precision_at_threshold = valid_precision[optimal_idx]\n",
    "            recall_at_threshold = recall[:-1][valid_indices][optimal_idx]\n",
    "    else:\n",
    "        # Fallback: Maximize F1 with precision >= 0.2 and recall >= 0.8\n",
    "        f1_scores = 2 * (precision[:-1] * recall[:-1]) / (precision[:-1] + recall[:-1] + 1e-8)\n",
    "        valid_f1_indices = (precision[:-1] >= 0.2) & (recall[:-1] >= 0.8)\n",
    "        if np.any(valid_f1_indices):\n",
    "            optimal_idx = np.argmax(f1_scores[valid_f1_indices])\n",
    "            optimal_threshold = thresholds[valid_f1_indices][optimal_idx]\n",
    "            precision_at_threshold = precision[:-1][valid_f1_indices][optimal_idx]\n",
    "            recall_at_threshold = recall[:-1][valid_f1_indices][optimal_idx]\n",
    "        else:\n",
    "            optimal_idx = np.argmax(f1_scores)\n",
    "            optimal_threshold = thresholds[optimal_idx]\n",
    "            precision_at_threshold = precision[optimal_idx]\n",
    "            recall_at_threshold = recall[optimal_idx]\n",
    "\n",
    "print(f\"Optimal Threshold (Recall >= 0.9, Precision >= 0.3): {optimal_threshold:.4f}\")\n",
    "print(f\"Precision at Threshold: {precision_at_threshold:.4f}\")\n",
    "print(f\"Recall at Threshold: {recall_at_threshold:.4f}\")\n",
    "\n",
    "# Re-evaluate with Optimal Threshold on Test Set\n",
    "y_pred_opt = (y_pred_proba >= optimal_threshold).astype(int)\n",
    "print(\"\\nTest Classification Report with Optimal Threshold:\\n\", classification_report(y_test, y_pred_opt, zero_division=0))\n",
    "\n",
    "# Cross-Validation\n",
    "skf = StratifiedKFold(n_splits=5, shuffle=True, random_state=42)\n",
    "f1_cv_scores = []\n",
    "recall_cv_scores = []\n",
    "precision_cv_scores = []\n",
    "\n",
    "for train_idx, val_idx in skf.split(X_train_scaled, y_train_smote):\n",
    "    X_cv_train, X_cv_val = X_train_scaled[train_idx], X_train_scaled[val_idx]\n",
    "    y_cv_train, y_cv_val = y_train_smote[train_idx], y_train_smote[val_idx]\n",
    "    \n",
    "    # Train stacking model on CV fold\n",
    "    stacking_model.fit(X_cv_train, y_cv_train)\n",
    "    \n",
    "    # Predict probabilities for validation set\n",
    "    y_cv_pred_proba = stacking_model.predict_proba(X_cv_val)[:, 1]\n",
    "    y_cv_pred = (y_cv_pred_proba >= optimal_threshold).astype(int)\n",
    "    \n",
    "    f1_cv_scores.append(f1_score(y_cv_val, y_cv_pred))\n",
    "    recall_cv_scores.append(recall_score(y_cv_val, y_cv_pred))\n",
    "    precision_cv_scores.append(precision_score(y_cv_val, y_cv_pred, zero_division=0))\n",
    "\n",
    "print(f\"\\nCross-Validation F1-Scores: {f1_cv_scores}\")\n",
    "print(f\"Average CV F1-Score: {np.mean(f1_cv_scores):.3f}\")\n",
    "print(f\"Cross-Validation Recall-Scores: {recall_cv_scores}\")\n",
    "print(f\"Average CV Recall: {np.mean(recall_cv_scores):.3f}\")\n",
    "print(f\"Cross-Validation Precision-Scores: {precision_cv_scores}\")\n",
    "print(f\"Average CV Precision: {np.mean(precision_cv_scores):.3f}\")\n",
    "\n",
    "# Precision-Recall Curve\n",
    "plt.plot(recall, precision, label=f'PR Curve (AUC = {pr_auc:.4f})')\n",
    "plt.axvline(x=recall_at_threshold, color='r', linestyle='--', label=f'Threshold = {optimal_threshold:.4f}')\n",
    "plt.xlabel('Recall')\n",
    "plt.ylabel('Precision')\n",
    "plt.title('Precision-Recall Curve for Stacking Ensemble Model')\n",
    "plt.legend()\n",
    "plt.grid(True)\n",
    "plt.show()"
   ]
  },
  {
   "cell_type": "markdown",
   "metadata": {},
   "source": [
    "# Ensemble Model 2"
   ]
  },
  {
   "cell_type": "markdown",
   "metadata": {},
   "source": [
    "XGBoost + LightGBM"
   ]
  },
  {
   "cell_type": "code",
   "execution_count": null,
   "metadata": {},
   "outputs": [
    {
     "name": "stdout",
     "output_type": "stream",
     "text": [
      "Validation Accuracy: 0.9996\n",
      "Validation ROC-AUC: 0.9353\n",
      "Validation Classification Report (Default Threshold):\n",
      "               precision    recall  f1-score   support\n",
      "\n",
      "           0       1.00      1.00      1.00      7991\n",
      "           1       1.00      0.67      0.80         9\n",
      "\n",
      "    accuracy                           1.00      8000\n",
      "   macro avg       1.00      0.83      0.90      8000\n",
      "weighted avg       1.00      1.00      1.00      8000\n",
      "\n",
      "\n",
      "Test Accuracy: 0.9996\n",
      "Test ROC-AUC: 0.9645\n",
      "Test Classification Report (Default Threshold):\n",
      "               precision    recall  f1-score   support\n",
      "\n",
      "           0       1.00      1.00      1.00     19978\n",
      "           1       0.88      0.68      0.77        22\n",
      "\n",
      "    accuracy                           1.00     20000\n",
      "   macro avg       0.94      0.84      0.88     20000\n",
      "weighted avg       1.00      1.00      1.00     20000\n",
      "\n",
      "PR-AUC: 0.6630\n",
      "Optimal Threshold (Recall >= 0.9, Precision >= 0.3): 0.4459\n",
      "Precision at Threshold: 0.6250\n",
      "Recall at Threshold: 0.6818\n",
      "\n",
      "Test Classification Report with Optimal Threshold:\n",
      "               precision    recall  f1-score   support\n",
      "\n",
      "           0       1.00      1.00      1.00     19978\n",
      "           1       0.62      0.68      0.65        22\n",
      "\n",
      "    accuracy                           1.00     20000\n",
      "   macro avg       0.81      0.84      0.83     20000\n",
      "weighted avg       1.00      1.00      1.00     20000\n",
      "\n",
      "\n",
      "Confusion Matrix:\n",
      " [[19969     9]\n",
      " [    7    15]]\n"
     ]
    },
    {
     "data": {
      "image/png": "[encoded data removed]",
      "text/plain": [
       "<Figure size 800x600 with 2 Axes>"
      ]
     },
     "metadata": {},
     "output_type": "display_data"
    },
    {
     "name": "stdout",
     "output_type": "stream",
     "text": [
      "\n",
      "Cross-Validation F1-Scores: [np.float64(0.8692307692307693), np.float64(0.859375), np.float64(0.8340080971659919), np.float64(0.8745247148288974), np.float64(0.8404669260700389)]\n",
      "Average CV F1-Score: 0.856\n",
      "Cross-Validation Recall-Scores: [np.float64(0.7847222222222222), np.float64(0.7638888888888888), np.float64(0.7202797202797203), np.float64(0.7986111111111112), np.float64(0.75)]\n",
      "Average CV Recall: 0.764\n",
      "Cross-Validation Precision-Scores: [np.float64(0.9741379310344828), np.float64(0.9821428571428571), np.float64(0.9903846153846154), np.float64(0.9663865546218487), np.float64(0.9557522123893806)]\n",
      "Average CV Precision: 0.974\n"
     ]
    },
    {
     "data": {
      "image/png": "[encoded data removed]",
      "text/plain": [
       "<Figure size 800x600 with 1 Axes>"
      ]
     },
     "metadata": {},
     "output_type": "display_data"
    }
   ],
   "source": [
    "import pandas as pd\n",
    "import numpy as np\n",
    "from sklearn.model_selection import StratifiedKFold\n",
    "from sklearn.metrics import classification_report, confusion_matrix, accuracy_score, roc_auc_score, precision_recall_curve, auc, f1_score, recall_score, precision_score\n",
    "from sklearn.ensemble import StackingClassifier\n",
    "from xgboost import XGBClassifier\n",
    "from lightgbm import LGBMClassifier\n",
    "import matplotlib.pyplot as plt\n",
    "import seaborn as sns\n",
    "\n",
    "# Set random seed for reproducibility\n",
    "np.random.seed(42)\n",
    "\n",
    "# Compute Class Weights (for Imbalanced Data)\n",
    "class_counts = np.bincount(y_train_smote)\n",
    "scale_pos_weight = class_counts[0] / class_counts[1] * 0.1  \n",
    "\n",
    "# Define Base Models\n",
    "# XGBoost (High Precision)\n",
    "xgb_model = XGBClassifier(\n",
    "    scale_pos_weight=scale_pos_weight,\n",
    "    max_depth=1,            # Keep depth minimal\n",
    "    min_child_weight=20,    # Stronger regularization\n",
    "    gamma=1.5,              # Stronger regularization\n",
    "    subsample=0.3,          # Further reduce to prevent overfitting\n",
    "    colsample_bytree=0.3,   # Further reduce for stability\n",
    "    learning_rate=0.01,     # Slower learning\n",
    "    n_estimators=500,       # Increase trees for better learning\n",
    "    reg_alpha=0.5,          # Stronger L1 regularization\n",
    "    reg_lambda=2.0,         # Stronger L2 regularization\n",
    "    eval_metric='logloss',\n",
    "    random_state=42,\n",
    "    use_label_encoder=False\n",
    ")\n",
    "\n",
    "# LightGBM (High Recall)\n",
    "lgbm_model = LGBMClassifier(\n",
    "    scale_pos_weight=scale_pos_weight,\n",
    "    max_depth=1,\n",
    "    min_child_weight=20,\n",
    "    num_leaves=3,           # Further reduce leaves to prevent overfitting\n",
    "    learning_rate=0.01,\n",
    "    n_estimators=500,\n",
    "    subsample=0.3,\n",
    "    colsample_bytree=0.3,\n",
    "    reg_alpha=0.5,\n",
    "    reg_lambda=2.0,\n",
    "    random_state=42,\n",
    "    verbose=-1\n",
    ")\n",
    "\n",
    "#  Define Stacking Ensemble with XGBoost as Meta-Learner\n",
    "estimators = [\n",
    "    ('xgb', xgb_model),\n",
    "    ('lgbm', lgbm_model)\n",
    "]\n",
    "\n",
    "stacking_model_2 = StackingClassifier(\n",
    "    estimators=estimators,\n",
    "    final_estimator=XGBClassifier(\n",
    "        max_depth=1,\n",
    "        learning_rate=0.02,\n",
    "        n_estimators=200,\n",
    "        reg_alpha=0.2,\n",
    "        reg_lambda=1.0,\n",
    "        random_state=42,\n",
    "        use_label_encoder=False,\n",
    "        eval_metric='logloss'\n",
    "    ),\n",
    "    cv=5,\n",
    "    n_jobs=-1\n",
    ")\n",
    "\n",
    "# Train Stacking Model\n",
    "stacking_model_2.fit(X_train_scaled_df, y_train_smote)\n",
    "\n",
    "# Evaluate on Validation Set with Default Threshold\n",
    "y_val_pred_proba = stacking_model_2.predict_proba(X_val_scaled_df)[:, 1]\n",
    "y_val_pred = (y_val_pred_proba >= 0.5).astype(int)\n",
    "\n",
    "accuracy_val = accuracy_score(y_val, y_val_pred)\n",
    "roc_auc_val = roc_auc_score(y_val, y_val_pred_proba)\n",
    "print(f\"Validation Accuracy: {accuracy_val:.4f}\")\n",
    "print(f\"Validation ROC-AUC: {roc_auc_val:.4f}\")\n",
    "print(\"Validation Classification Report (Default Threshold):\\n\", classification_report(y_val, y_val_pred, zero_division=0))\n",
    "\n",
    "# Evaluate on Test Set with Default Threshold\n",
    "y_test_pred_proba = stacking_model_2.predict_proba(X_test_scaled_df)[:, 1]\n",
    "y_test_pred = (y_test_pred_proba >= 0.5).astype(int)\n",
    "\n",
    "accuracy_test = accuracy_score(y_test, y_test_pred)\n",
    "roc_auc_test = roc_auc_score(y_test, y_test_pred_proba)\n",
    "print(f\"\\nTest Accuracy: {accuracy_test:.4f}\")\n",
    "print(f\"Test ROC-AUC: {roc_auc_test:.4f}\")\n",
    "print(\"Test Classification Report (Default Threshold):\\n\", classification_report(y_test, y_test_pred, zero_division=0))\n",
    "\n",
    "# PR-AUC and Threshold Optimization\n",
    "precision, recall, thresholds = precision_recall_curve(y_test, y_test_pred_proba)\n",
    "pr_auc = auc(recall, precision)\n",
    "print(f\"PR-AUC: {pr_auc:.4f}\")\n",
    "\n",
    "# Enhanced threshold optimization for recall >= 0.9 and precision >= 0.3\n",
    "recall_target = 0.9\n",
    "precision_floor = 0.5\n",
    "valid_indices = (recall[:-1] >= recall_target) & (precision[:-1] >= precision_floor)\n",
    "if np.any(valid_indices):\n",
    "    valid_thresholds = thresholds[valid_indices]\n",
    "    valid_precision = precision[:-1][valid_indices]\n",
    "    optimal_idx = np.argmax(valid_precision)\n",
    "    optimal_threshold = valid_thresholds[optimal_idx]\n",
    "    precision_at_threshold = valid_precision[optimal_idx]\n",
    "    recall_at_threshold = recall[:-1][valid_indices][optimal_idx]\n",
    "else:\n",
    "    # Prioritize precision >= 0.3 and maximize recall\n",
    "    valid_indices = precision[:-1] >= precision_floor\n",
    "    if np.any(valid_indices):\n",
    "        valid_thresholds = thresholds[valid_indices]\n",
    "        valid_recall = recall[:-1][valid_indices]\n",
    "        optimal_idx = np.argmax(valid_recall)\n",
    "        optimal_threshold = valid_thresholds[optimal_idx]\n",
    "        precision_at_threshold = precision[:-1][valid_indices][optimal_idx]\n",
    "        recall_at_threshold = valid_recall[optimal_idx]\n",
    "    else:\n",
    "        # Fallback: Maximize recall with precision >= 0.2\n",
    "        valid_indices = (precision[:-1] >= 0.2)\n",
    "        if np.any(valid_indices):\n",
    "            valid_thresholds = thresholds[valid_indices]\n",
    "            valid_recall = recall[:-1][valid_indices]\n",
    "            optimal_idx = np.argmax(valid_recall)\n",
    "            optimal_threshold = valid_thresholds[optimal_idx]\n",
    "            precision_at_threshold = precision[:-1][valid_indices][optimal_idx]\n",
    "            recall_at_threshold = valid_recall[optimal_idx]\n",
    "        else:\n",
    "            # Final fallback: Maximize F1 with recall >= 0.85\n",
    "            f1_scores = 2 * (precision[:-1] * recall[:-1]) / (precision[:-1] + recall[:-1] + 1e-8)\n",
    "            valid_f1_indices = recall[:-1] >= 0.85\n",
    "            optimal_idx = np.argmax(f1_scores[valid_f1_indices])\n",
    "            optimal_threshold = thresholds[valid_f1_indices][optimal_idx]\n",
    "            precision_at_threshold = precision[:-1][valid_f1_indices][optimal_idx]\n",
    "            recall_at_threshold = recall[:-1][valid_f1_indices][optimal_idx]\n",
    "\n",
    "print(f\"Optimal Threshold (Recall >= 0.9, Precision >= 0.3): {optimal_threshold:.4f}\")\n",
    "print(f\"Precision at Threshold: {precision_at_threshold:.4f}\")\n",
    "print(f\"Recall at Threshold: {recall_at_threshold:.4f}\")\n",
    "\n",
    "# Re-evaluate on Test Set with Optimal Threshold\n",
    "y_test_pred_opt = (y_test_pred_proba >= optimal_threshold).astype(int)\n",
    "print(\"\\nTest Classification Report with Optimal Threshold:\\n\", classification_report(y_test, y_test_pred_opt, zero_division=0))\n",
    "\n",
    "# Confusion Matrix\n",
    "cm = confusion_matrix(y_test, y_test_pred_opt)\n",
    "print(\"\\nConfusion Matrix:\\n\", cm)\n",
    "\n",
    "# Visualize Confusion Matrix\n",
    "plt.figure(figsize=(8, 6))\n",
    "sns.heatmap(cm, annot=True, fmt='d', cmap='Blues', \n",
    "            xticklabels=['Non-Fraud (0)', 'Fraud (1)'], \n",
    "            yticklabels=['Non-Fraud (0)', 'Fraud (1)'])\n",
    "plt.title('Confusion Matrix for Enhanced 2-Model Ensemble (XGBoost + LightGBM)')\n",
    "plt.xlabel('Predicted')\n",
    "plt.ylabel('Actual')\n",
    "plt.show()\n",
    "\n",
    "# Cross-Validation\n",
    "skf = StratifiedKFold(n_splits=5, shuffle=True, random_state=42)\n",
    "f1_cv_scores = []\n",
    "recall_cv_scores = []\n",
    "precision_cv_scores = []\n",
    "\n",
    "for train_idx, val_idx in skf.split(X_train_scaled_df, y_train_smote):\n",
    "    X_cv_train, X_cv_val = X_train_scaled_df.iloc[train_idx], X_train_scaled_df.iloc[val_idx]\n",
    "    y_cv_train, y_cv_val = y_train_smote.iloc[train_idx], y_train_smote.iloc[val_idx]\n",
    "    \n",
    "    stacking_model_2.fit(X_cv_train, y_cv_train)\n",
    "    y_cv_pred_proba = stacking_model_2.predict_proba(X_cv_val)[:, 1]\n",
    "    y_cv_pred = (y_cv_pred_proba >= optimal_threshold).astype(int)\n",
    "    \n",
    "    f1_cv_scores.append(f1_score(y_cv_val, y_cv_pred))\n",
    "    recall_cv_scores.append(recall_score(y_cv_val, y_cv_pred))\n",
    "    precision_cv_scores.append(precision_score(y_cv_val, y_cv_pred, zero_division=0))\n",
    "\n",
    "print(f\"\\nCross-Validation F1-Scores: {f1_cv_scores}\")\n",
    "print(f\"Average CV F1-Score: {np.mean(f1_cv_scores):.3f}\")\n",
    "print(f\"Cross-Validation Recall-Scores: {recall_cv_scores}\")\n",
    "print(f\"Average CV Recall: {np.mean(recall_cv_scores):.3f}\")\n",
    "print(f\"Cross-Validation Precision-Scores: {precision_cv_scores}\")\n",
    "print(f\"Average CV Precision: {np.mean(precision_cv_scores):.3f}\")\n",
    "\n",
    "# Plot Precision-Recall Curve\n",
    "plt.figure(figsize=(8, 6))\n",
    "plt.plot(recall, precision, label=f'PR Curve (AUC = {pr_auc:.4f})')\n",
    "plt.axvline(x=recall_at_threshold, color='r', linestyle='--', label=f'Threshold = {optimal_threshold:.4f}')\n",
    "plt.xlabel('Recall')\n",
    "plt.ylabel('Precision')\n",
    "plt.title('Precision-Recall Curve for Enhanced 2-Model Ensemble (XGBoost + LightGBM)')\n",
    "plt.legend()\n",
    "plt.grid(True)\n",
    "plt.show()"
   ]
  },
  {
   "cell_type": "markdown",
   "metadata": {},
   "source": [
    "# save model"
   ]
  },
  {
   "cell_type": "code",
   "execution_count": 28,
   "metadata": {},
   "outputs": [
    {
     "data": {
      "text/plain": [
       "['scaler_ensemble.pkl']"
      ]
     },
     "execution_count": 28,
     "metadata": {},
     "output_type": "execute_result"
    }
   ],
   "source": [
    "import joblib\n",
    "\n",
    "joblib.dump(stacking_model_2, 'ensemble_model.pkl')  \n",
    "joblib.dump(scaler, 'scaler_ensemble.pkl')      "
   ]
  }
 ],
 "metadata": {
  "kernelspec": {
   "display_name": "Python 3",
   "language": "python",
   "name": "python3"
  },
  "language_info": {
   "codemirror_mode": {
    "name": "ipython",
    "version": 3
   },
   "file_extension": ".py",
   "mimetype": "text/x-python",
   "name": "python",
   "nbconvert_exporter": "python",
   "pygments_lexer": "ipython3",
   "version": "3.10.6"
  }
 },
 "nbformat": 4,
 "nbformat_minor": 2
}
